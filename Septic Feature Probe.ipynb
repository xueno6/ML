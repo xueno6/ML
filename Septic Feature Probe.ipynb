{
 "cells": [
  {
   "cell_type": "markdown",
   "metadata": {},
   "source": [
    "# MIMIC-III Sepsis Feature Probe"
   ]
  },
  {
   "cell_type": "markdown",
   "metadata": {},
   "source": [
    "There are many possible features and markers that could indicate the survivability of a patient with suspected sepsis. In this notebook I will probe and visualize the suspected features of import. I will conduct several techniques to select features and trim less significant ones using univariate analysis and other techniques.\n",
    "\n",
    "Note that the dataset in its entirety has been set up locally on a Postgresql database. All machine learning will be done remotely to save time and resources down the road."
   ]
  },
  {
   "cell_type": "code",
   "execution_count": 415,
   "metadata": {},
   "outputs": [],
   "source": [
    "from sqlalchemy.ext.automap import automap_base\n",
    "from sqlalchemy.orm import Session\n",
    "from sqlalchemy import create_engine\n",
    "import pandas as pd\n",
    "import numpy as np\n",
    "from sklearn import preprocessing\n",
    "\n",
    "import matplotlib.pyplot as plt\n",
    "import datetime\n",
    "\n",
    "import seaborn as sns\n",
    "sns.set(style='ticks')\n",
    "\n",
    "import warnings\n",
    "warnings.filterwarnings('ignore')\n",
    "\n",
    "%matplotlib inline\n",
    "\n",
    "import pymssql\n",
    "import pandas as pd\n",
    "\n",
    "conn=pymssql.connect(host='192.168.60.28', user='mimic', password='asx^&34513', port=1433, database='mimic',\n",
    "                           charset='utf8')\n",
    "\n",
    "\n",
    "from sqlalchemy import create_engine,Column,Integer,String,Float,func\n",
    "from sqlalchemy.ext.declarative import declarative_base\n",
    "from sqlalchemy.orm import sessionmaker\n",
    "from random import randint\n",
    "\n"
   ]
  },
  {
   "cell_type": "code",
   "execution_count": 416,
   "metadata": {},
   "outputs": [],
   "source": [
    "data=pd.read_sql(\"Select * from [mimiciii.admissions] where diagnosis='SEPSIS' \",conn)"
   ]
  },
  {
   "cell_type": "code",
   "execution_count": 244,
   "metadata": {},
   "outputs": [],
   "source": [
    "#admission_query = session.query(Admission).filter_by(diagnosis='SEPSIS')\n",
    "\n",
    "#df = pd.read_sql(admission_query.statement, admission_query.session.bind)"
   ]
  },
  {
   "cell_type": "code",
   "execution_count": 417,
   "metadata": {},
   "outputs": [],
   "source": [
    "def period(row, period):\n",
    "    \n",
    "    if row['deathtime'] == None:\n",
    "        return 0\n",
    "    elif row['deathtime'] - row['admittime'] > period:\n",
    "        return 0\n",
    "    else:\n",
    "        return 1  #dead in a short time\n",
    "    row['admittime']"
   ]
  },
  {
   "cell_type": "code",
   "execution_count": 418,
   "metadata": {},
   "outputs": [],
   "source": [
    "data['death_period'] = data.apply (lambda row: period (row, pd.Timedelta('30 days')),axis=1)\n"
   ]
  },
  {
   "cell_type": "code",
   "execution_count": 419,
   "metadata": {},
   "outputs": [],
   "source": [
    "adm_col = ['subject_id', 'hadm_id', 'admittime', 'admission_type', 'insurance', 'ethnicity', 'death_period']\n",
    "admissions = data[adm_col]"
   ]
  },
  {
   "cell_type": "code",
   "execution_count": 420,
   "metadata": {},
   "outputs": [],
   "source": [
    "# Obtain patient information and trim unnecessary information\n",
    "#patient_query = session.query(Patient)\n",
    "patients=pd.read_sql(\"Select * from [mimiciii.patients]\",conn)\n",
    "#patients = pd.read_sql(patient_query.statement, patient_query.session.bind)\n",
    "patients = patients[['subject_id', 'gender', 'dob']]\n"
   ]
  },
  {
   "cell_type": "code",
   "execution_count": 421,
   "metadata": {},
   "outputs": [
    {
     "data": {
      "text/html": [
       "<div>\n",
       "<style scoped>\n",
       "    .dataframe tbody tr th:only-of-type {\n",
       "        vertical-align: middle;\n",
       "    }\n",
       "\n",
       "    .dataframe tbody tr th {\n",
       "        vertical-align: top;\n",
       "    }\n",
       "\n",
       "    .dataframe thead th {\n",
       "        text-align: right;\n",
       "    }\n",
       "</style>\n",
       "<table border=\"1\" class=\"dataframe\">\n",
       "  <thead>\n",
       "    <tr style=\"text-align: right;\">\n",
       "      <th></th>\n",
       "      <th>subject_id</th>\n",
       "      <th>hadm_id</th>\n",
       "      <th>admittime</th>\n",
       "      <th>admission_type</th>\n",
       "      <th>insurance</th>\n",
       "      <th>ethnicity</th>\n",
       "      <th>death_period</th>\n",
       "      <th>gender</th>\n",
       "      <th>dob</th>\n",
       "    </tr>\n",
       "  </thead>\n",
       "  <tbody>\n",
       "    <tr>\n",
       "      <th>0</th>\n",
       "      <td>357</td>\n",
       "      <td>122609</td>\n",
       "      <td>2198-11-01 22:36:00</td>\n",
       "      <td>EMERGENCY</td>\n",
       "      <td>Private</td>\n",
       "      <td>WHITE</td>\n",
       "      <td>1</td>\n",
       "      <td>M</td>\n",
       "      <td>2135-03-22</td>\n",
       "    </tr>\n",
       "    <tr>\n",
       "      <th>1</th>\n",
       "      <td>366</td>\n",
       "      <td>134462</td>\n",
       "      <td>2164-11-18 20:27:00</td>\n",
       "      <td>EMERGENCY</td>\n",
       "      <td>Medicare</td>\n",
       "      <td>HISPANIC OR LATINO</td>\n",
       "      <td>1</td>\n",
       "      <td>M</td>\n",
       "      <td>2112-05-22</td>\n",
       "    </tr>\n",
       "    <tr>\n",
       "      <th>2</th>\n",
       "      <td>94</td>\n",
       "      <td>183686</td>\n",
       "      <td>2176-02-25 16:49:00</td>\n",
       "      <td>EMERGENCY</td>\n",
       "      <td>Medicare</td>\n",
       "      <td>ASIAN</td>\n",
       "      <td>1</td>\n",
       "      <td>M</td>\n",
       "      <td>2101-09-20</td>\n",
       "    </tr>\n",
       "    <tr>\n",
       "      <th>3</th>\n",
       "      <td>21</td>\n",
       "      <td>111970</td>\n",
       "      <td>2135-01-30 20:50:00</td>\n",
       "      <td>EMERGENCY</td>\n",
       "      <td>Medicare</td>\n",
       "      <td>WHITE</td>\n",
       "      <td>1</td>\n",
       "      <td>M</td>\n",
       "      <td>2047-04-04</td>\n",
       "    </tr>\n",
       "    <tr>\n",
       "      <th>4</th>\n",
       "      <td>353</td>\n",
       "      <td>108923</td>\n",
       "      <td>2151-03-28 16:01:00</td>\n",
       "      <td>EMERGENCY</td>\n",
       "      <td>Medicare</td>\n",
       "      <td>WHITE</td>\n",
       "      <td>1</td>\n",
       "      <td>M</td>\n",
       "      <td>2089-07-23</td>\n",
       "    </tr>\n",
       "  </tbody>\n",
       "</table>\n",
       "</div>"
      ],
      "text/plain": [
       "   subject_id  hadm_id           admittime admission_type insurance  \\\n",
       "0         357   122609 2198-11-01 22:36:00      EMERGENCY   Private   \n",
       "1         366   134462 2164-11-18 20:27:00      EMERGENCY  Medicare   \n",
       "2          94   183686 2176-02-25 16:49:00      EMERGENCY  Medicare   \n",
       "3          21   111970 2135-01-30 20:50:00      EMERGENCY  Medicare   \n",
       "4         353   108923 2151-03-28 16:01:00      EMERGENCY  Medicare   \n",
       "\n",
       "            ethnicity  death_period gender        dob  \n",
       "0               WHITE             1      M 2135-03-22  \n",
       "1  HISPANIC OR LATINO             1      M 2112-05-22  \n",
       "2               ASIAN             1      M 2101-09-20  \n",
       "3               WHITE             1      M 2047-04-04  \n",
       "4               WHITE             1      M 2089-07-23  "
      ]
     },
     "execution_count": 421,
     "metadata": {},
     "output_type": "execute_result"
    }
   ],
   "source": [
    "# Join patients and admission dataframes to obtain gender and age of patient\n",
    "patient_info = admissions.join(patients.set_index('subject_id'), on='subject_id')\n",
    "#patient_info = pd.read_sql(\"select  [mimiciii.patients].subject_id,gender,dob,hadm_id, admittime, admission_type, insurance, ethnicity from [mimiciii.patients] join [mimiciii.admissions] on [mimiciii.patients].subject_id=[mimiciii.admissions].subject_id where [mimiciii.admissions].diagnosis='SEPSIS'\",conn)\n",
    "patient_info.head()"
   ]
  },
  {
   "cell_type": "markdown",
   "metadata": {},
   "source": [
    "Age must be calculated from two different tables. The admissions table for date of admission and the patient table for date of birth. Age may play a significant role in the survivability."
   ]
  },
  {
   "cell_type": "code",
   "execution_count": 422,
   "metadata": {},
   "outputs": [],
   "source": [
    "import time\n",
    "def age(row):\n",
    "    possible_age = pd.Timestamp(row['admittime'],unit='ms') - pd.Timestamp(row['dob'],unit='ms')#/pd.Timedelta('365 days',unit='ms'))\n",
    "    \n",
    "    # For those holder than 89, their ages have been removed and set to 300 years prior to admission.     \n",
    "    #if possible_age < 0:\n",
    "        # 91.4 is the median age for those with removed ages. This is what we will set all ages to that are older than 89       \n",
    "     #   possible_age = 91\n",
    "    return possible_age\n"
   ]
  },
  {
   "cell_type": "code",
   "execution_count": 423,
   "metadata": {
    "scrolled": true
   },
   "outputs": [],
   "source": [
    "patient_info['age'] = patient_info.apply (lambda row:  round(int(str(age(row)).split(' ')[0])/365),axis=1)\n"
   ]
  },
  {
   "cell_type": "code",
   "execution_count": 424,
   "metadata": {},
   "outputs": [],
   "source": [
    "for i in range(1184):\n",
    "     if patient_info['age'][i]>89:\n",
    "        patient_info['age'][i]=91"
   ]
  },
  {
   "cell_type": "markdown",
   "metadata": {},
   "source": [
    "## Analyzing the Importance of Basic Patient Information"
   ]
  },
  {
   "cell_type": "markdown",
   "metadata": {},
   "source": [
    "The admission table has been trimmed and a period of importance for mortality computed. The patient information table has been trimmed and joined to the modified admission table. It is now possible to look into several different potentially useful details regarding patient mortality."
   ]
  },
  {
   "cell_type": "code",
   "execution_count": 425,
   "metadata": {},
   "outputs": [
    {
     "data": {
      "text/html": [
       "<div>\n",
       "<style scoped>\n",
       "    .dataframe tbody tr th:only-of-type {\n",
       "        vertical-align: middle;\n",
       "    }\n",
       "\n",
       "    .dataframe tbody tr th {\n",
       "        vertical-align: top;\n",
       "    }\n",
       "\n",
       "    .dataframe thead th {\n",
       "        text-align: right;\n",
       "    }\n",
       "</style>\n",
       "<table border=\"1\" class=\"dataframe\">\n",
       "  <thead>\n",
       "    <tr style=\"text-align: right;\">\n",
       "      <th></th>\n",
       "      <th>subject_id</th>\n",
       "      <th>hadm_id</th>\n",
       "      <th>death_period</th>\n",
       "      <th>age</th>\n",
       "    </tr>\n",
       "  </thead>\n",
       "  <tbody>\n",
       "    <tr>\n",
       "      <th>count</th>\n",
       "      <td>1184.000000</td>\n",
       "      <td>1184.000000</td>\n",
       "      <td>1184.000000</td>\n",
       "      <td>1184.00000</td>\n",
       "    </tr>\n",
       "    <tr>\n",
       "      <th>mean</th>\n",
       "      <td>32912.771115</td>\n",
       "      <td>149545.354730</td>\n",
       "      <td>0.987331</td>\n",
       "      <td>67.03125</td>\n",
       "    </tr>\n",
       "    <tr>\n",
       "      <th>std</th>\n",
       "      <td>28172.426424</td>\n",
       "      <td>29131.331324</td>\n",
       "      <td>0.111888</td>\n",
       "      <td>16.47960</td>\n",
       "    </tr>\n",
       "    <tr>\n",
       "      <th>min</th>\n",
       "      <td>21.000000</td>\n",
       "      <td>100262.000000</td>\n",
       "      <td>0.000000</td>\n",
       "      <td>0.00000</td>\n",
       "    </tr>\n",
       "    <tr>\n",
       "      <th>25%</th>\n",
       "      <td>10827.500000</td>\n",
       "      <td>123816.000000</td>\n",
       "      <td>1.000000</td>\n",
       "      <td>56.00000</td>\n",
       "    </tr>\n",
       "    <tr>\n",
       "      <th>50%</th>\n",
       "      <td>23820.500000</td>\n",
       "      <td>149640.500000</td>\n",
       "      <td>1.000000</td>\n",
       "      <td>68.50000</td>\n",
       "    </tr>\n",
       "    <tr>\n",
       "      <th>75%</th>\n",
       "      <td>50275.500000</td>\n",
       "      <td>175462.000000</td>\n",
       "      <td>1.000000</td>\n",
       "      <td>80.00000</td>\n",
       "    </tr>\n",
       "    <tr>\n",
       "      <th>max</th>\n",
       "      <td>99973.000000</td>\n",
       "      <td>199880.000000</td>\n",
       "      <td>1.000000</td>\n",
       "      <td>91.00000</td>\n",
       "    </tr>\n",
       "  </tbody>\n",
       "</table>\n",
       "</div>"
      ],
      "text/plain": [
       "         subject_id        hadm_id  death_period         age\n",
       "count   1184.000000    1184.000000   1184.000000  1184.00000\n",
       "mean   32912.771115  149545.354730      0.987331    67.03125\n",
       "std    28172.426424   29131.331324      0.111888    16.47960\n",
       "min       21.000000  100262.000000      0.000000     0.00000\n",
       "25%    10827.500000  123816.000000      1.000000    56.00000\n",
       "50%    23820.500000  149640.500000      1.000000    68.50000\n",
       "75%    50275.500000  175462.000000      1.000000    80.00000\n",
       "max    99973.000000  199880.000000      1.000000    91.00000"
      ]
     },
     "execution_count": 425,
     "metadata": {},
     "output_type": "execute_result"
    }
   ],
   "source": [
    "patient_info.describe()"
   ]
  },
  {
   "cell_type": "code",
   "execution_count": 426,
   "metadata": {},
   "outputs": [
    {
     "name": "stdout",
     "output_type": "stream",
     "text": [
      "(15, 10)\n",
      "(1169, 10)\n"
     ]
    }
   ],
   "source": [
    "pos = patient_info[patient_info['death_period'] == 0]\n",
    "neg = patient_info[patient_info['death_period'] == 1]\n",
    "print (pos.shape)\n",
    "print (neg.shape)"
   ]
  },
  {
   "cell_type": "code",
   "execution_count": 427,
   "metadata": {},
   "outputs": [
    {
     "data": {
      "image/png": "[encoded data removed]",
      "text/plain": [
       "<Figure size 432x288 with 1 Axes>"
      ]
     },
     "metadata": {
      "needs_background": "light"
     },
     "output_type": "display_data"
    }
   ],
   "source": [
    "ax = patient_info[['age']].plot(kind='hist', title =\"Age Distribution\", legend=True, grid=True, bins=30, color='orange', alpha=0.6)"
   ]
  },
  {
   "cell_type": "markdown",
   "metadata": {},
   "source": [
    "### Data Overview\n",
    "A trend can be seen in the age of patients admitted with suspected sepsis. As age increases, the risk of sepsis also increases somewhat linearly. It is important to note that the large number of patients at 92 years old is due to a HIPAA compliency that removes exact ages of those older than 89. The median value is approximately 92 years of age, hence the large number in that bucket.\n",
    "\n",
    "The mean age is ~67 years old with a standard deviation of ~17 years. This is another clear indication that sepsis is particularly relevant to those older than 56 years of age. 75% of the cases affect patients older than 56 years old.\n",
    "\n",
    "#### Mortality \n",
    "There are a total of 1184 patients admitted with suspected sepsis. Of those admitted, 932 survived >30 days in the ICU. 256 did not survive 30 days after admittance. Therefore there is a 21% mortality rate of those admitted with suspected sepsis. Next let us break this down by age."
   ]
  },
  {
   "cell_type": "code",
   "execution_count": 428,
   "metadata": {},
   "outputs": [
    {
     "data": {
      "text/plain": [
       "<matplotlib.legend.Legend at 0x7f1da737b588>"
      ]
     },
     "execution_count": 428,
     "metadata": {},
     "output_type": "execute_result"
    },
    {
     "data": {
      "image/png": "[encoded data removed]",
      "text/plain": [
       "<Figure size 432x288 with 1 Axes>"
      ]
     },
     "metadata": {
      "needs_background": "light"
     },
     "output_type": "display_data"
    }
   ],
   "source": [
    "_ = plt.hist([pos['age'],neg['age']], bins=30, alpha=0.9, normed=True, label=['Survived','Deceased'], color=['cornflowerblue','orangered'])\n",
    "\n",
    "plt.title('Death and Age')\n",
    "plt.xlabel('Years of Age')\n",
    "plt.ylabel('Ratio')\n",
    "plt.legend(loc='upper right')"
   ]
  },
  {
   "cell_type": "markdown",
   "metadata": {},
   "source": [
    "#### Age and Survivability\n",
    "While there is no clear marker, around 50 years of age a switch from primarily surviving a septic condition with a probability >0.75 to primarily succuming to the condition. This, visually, suggests that age is particularly important in the survivaibility. There are likely other factors that are strongly correlated to age however."
   ]
  },
  {
   "cell_type": "markdown",
   "metadata": {
    "collapsed": true
   },
   "source": [
    "### Gender and Survivability"
   ]
  },
  {
   "cell_type": "code",
   "execution_count": 429,
   "metadata": {},
   "outputs": [
    {
     "name": "stdout",
     "output_type": "stream",
     "text": [
      "Male Mortality: 79.625\n",
      "Female Mortality: 76.0\n"
     ]
    },
    {
     "data": {
      "image/png": "[encoded data removed]",
      "text/plain": [
       "<Figure size 432x288 with 1 Axes>"
      ]
     },
     "metadata": {
      "needs_background": "light"
     },
     "output_type": "display_data"
    }
   ],
   "source": [
    "ax = plt.axes()\n",
    "sns.countplot(x=\"gender\", hue=\"death_period\", data=patient_info, ax=ax)\n",
    "ax.set_title('Sex and Survivability')\n",
    "alive = pos.gender.value_counts()\n",
    "dead = neg.gender.value_counts()\n",
    "print(\"Male Mortality: {}\".format(dead.M/float(alive.M)))\n",
    "print (\"Female Mortality: {}\".format(dead.F/float(alive.F)))"
   ]
  },
  {
   "cell_type": "markdown",
   "metadata": {},
   "source": [
    "Gender does not appear to play a significant role on the survivability of sepsis, however, in conjunction with another feature it may add useful information. Male respitory rate may be lower than female respitory rate and may help shift the importance in a machine learning algorithm."
   ]
  },
  {
   "cell_type": "markdown",
   "metadata": {},
   "source": [
    "### Insurance Type and Survivability"
   ]
  },
  {
   "cell_type": "code",
   "execution_count": 430,
   "metadata": {},
   "outputs": [
    {
     "name": "stdout",
     "output_type": "stream",
     "text": [
      "Medicare Mortality: 100.75\n",
      "Medicaid Mortality: 30.333333333333332\n",
      "Private Mortality: 82.0\n"
     ]
    },
    {
     "data": {
      "image/png": "[encoded data removed]",
      "text/plain": [
       "<Figure size 432x288 with 1 Axes>"
      ]
     },
     "metadata": {
      "needs_background": "light"
     },
     "output_type": "display_data"
    }
   ],
   "source": [
    "ax = plt.axes()\n",
    "sns.countplot(x=\"insurance\", hue=\"death_period\", data=patient_info, ax=ax)\n",
    "ax.set_title('Insurance and Survivability')\n",
    "\n",
    "alive = pos.insurance.value_counts()\n",
    "dead = neg.insurance.value_counts()\n",
    "print (\"Medicare Mortality: {}\".format(dead.Medicare/float(alive.Medicare)))\n",
    "print (\"Medicaid Mortality: {}\".format(dead.Medicaid/float(alive.Medicaid)))\n",
    "print (\"Private Mortality: {}\".format(dead.Private/float(alive.Private)))\n"
   ]
  },
  {
   "cell_type": "markdown",
   "metadata": {},
   "source": [
    "This breakdown of survivability by insurance type makes sense. Medicare is insurance administered by the US Government and fulfilled by private insurers for individuals 65 years and older. From the previous breakdown by age, we can see that those older than 65 are at an increased risk of succumbing to sepsis. Private insurance holders are likely younger. Therefore the descrepency in survivability is more understandable, 30% mortality rate for Medicare insurance holders and almost half that for private insurance holders at 17%.\n",
    "\n",
    "The real question comes when we look at Medicaid mortality rates which are 27%. Medicaid is provided by the US Government to individuals that reside at or at 133% of the poverty line. What this is indicating is that income also plays a role on the survivability of a septic condition."
   ]
  },
  {
   "cell_type": "code",
   "execution_count": 431,
   "metadata": {},
   "outputs": [
    {
     "data": {
      "image/png": "[encoded data removed]",
      "text/plain": [
       "<Figure size 432x288 with 1 Axes>"
      ]
     },
     "metadata": {
      "needs_background": "light"
     },
     "output_type": "display_data"
    }
   ],
   "source": [
    "sns.violinplot(x=\"insurance\", y=\"age\", hue=\"gender\", data=patient_info, split=True);"
   ]
  },
  {
   "cell_type": "markdown",
   "metadata": {},
   "source": [
    "Here we can see a violin graph with age on the y-axis, insurance type on the x-axis, and Male represented by blue and Female by green. This clariefies the suspicion that Medicare holders are older on average. Medicaid and Private insurance holders appear to be approximately the same age on average. Self pay and government insurance have too few data points to draw any sort of conclusion. Gender also seems relatively balanced except for Medicaid insurance holders. More young men tend to have medicaid insurance than young women."
   ]
  },
  {
   "cell_type": "markdown",
   "metadata": {},
   "source": [
    "## Obtaining Vitals"
   ]
  },
  {
   "cell_type": "markdown",
   "metadata": {},
   "source": [
    "The initial vitals, within 48 hours, will likely be the most useful information for predicting the survivability of a septic condition. Graphing and visualizing this data will allow us to make insights into which features are of higher importance and which are likely irrelevant and can be trimmed from the dataset."
   ]
  },
  {
   "cell_type": "code",
   "execution_count": 432,
   "metadata": {},
   "outputs": [],
   "source": [
    "vital_ids = {   \n",
    "                50827: 'respiration', # respiration rate\n",
    "                50912: 'creatinine',  # creatinine levels indicate kidney issues\n",
    "                50813: 'lactate',     # lactate levels indicate shock and cellular anirobic respiration\n",
    "                50889: 'CRP',         # C-reactive protein systemic inflammation\n",
    "                51300: 'WBC',         # White blood cell count indicates systemic reaction to infection\n",
    "                51006: 'BUN',         # Blood Urea Nitrogen indicates kidney issues\n",
    "                51288: 'ESR',         # erythrocyte sedimentation rate another inflammation test\n",
    "                51265: 'platelet',    # decreased platelet counts parallel the severity of infection\n",
    "                50825: 'tempurature', # tempurature is highly indicative of infection and/or immune response\n",
    "                50816: 'oxygen',\n",
    "                51275: 'PT',\n",
    "                51274: 'PTT',\n",
    "                51277: 'RBCDW',       # red blood cell distribution width\n",
    "                51256: 'neutrophils',\n",
    "                50818: 'pco2',\n",
    "                50821: 'po2',\n",
    "                50893: 'calcium',\n",
    "                50931: 'glucose',\n",
    "                51221: 'hematocrit',\n",
    "                51222: 'hemoglobin',\n",
    "                51244: 'lymphocytes',\n",
    "                \n",
    "                51248: 'MCH',\n",
    "                51237: 'INR',\n",
    "                50956: 'lipase',\n",
    "                50878: 'AST',\n",
    "                50867: 'amylase',\n",
    "                50863: 'alkaline phosphatase',\n",
    "                50820: 'PH',\n",
    "                50882: 'bicarbonate'\n",
    "            } "
   ]
  },
  {
   "cell_type": "code",
   "execution_count": 433,
   "metadata": {
    "scrolled": true
   },
   "outputs": [],
   "source": [
    "# Query database labevents for all information related to all hospital admission ids we are interested in \n",
    "# along with all item types we are interested in, defined above\n",
    "patient_hadm_ids = patient_info.hadm_id.tolist()\n",
    "lab_events=pd.read_sql_query(\"Select * from [mimiciii.Labevents] where (hadm_id in (select hadm_id from [mimiciii.admissions] join [mimiciii.patients] on [mimiciii.admissions].subject_id=[mimiciii.patients].subject_id) and  [mimiciii.Labevents].itemid in (50827,50912,50813,50889,51300,51006,51288,51265,50825,50816,51275,51274,51277,51256,50818,50821,50893,50931,51221,51222,51244,51248,51237,50956,50878,50867,50863,50820,50882))\",conn)\n",
    "# Beautiful query /sarcasm\n",
    "\n",
    "#lab_event_query = session.query(LabEvent).filter(LabEvent.hadm_id.in_(patient_hadm_ids)).filter(LabEvent.itemid.in_(vital_ids.keys()))\n",
    "\n",
    "lab_events=lab_events.groupby('hadm_id')\n",
    "#lab_events = pd.read_sql(\"Select * from [mimiciii.labevents]\",conn)"
   ]
  },
  {
   "cell_type": "code",
   "execution_count": 434,
   "metadata": {},
   "outputs": [
    {
     "data": {
      "text/plain": [
       "numpy.datetime64('2198-11-01T22:36:00.000000000')"
      ]
     },
     "execution_count": 434,
     "metadata": {},
     "output_type": "execute_result"
    }
   ],
   "source": [
    "patient_info['admittime'].values[0]"
   ]
  },
  {
   "cell_type": "code",
   "execution_count": 435,
   "metadata": {},
   "outputs": [],
   "source": [
    "# Prepare joining copy of patient vitals\n",
    "patient_vitals = patient_info[['hadm_id']].copy()\n",
    "for value in vital_ids.values():\n",
    "    patient_vitals[value] = np.nan\n",
    "    \n",
    "patient_vitals = patient_vitals.set_index('hadm_id')"
   ]
  },
  {
   "cell_type": "code",
   "execution_count": 436,
   "metadata": {},
   "outputs": [],
   "source": [
    "# Respiration rate value needs to be cleaned. \n",
    "def clean_respiration(value):\n",
    "    return max([int(x) for x in value.split('/') if x.isdigit()])"
   ]
  },
  {
   "cell_type": "code",
   "execution_count": 437,
   "metadata": {},
   "outputs": [],
   "source": [
    "# Cycle through data, check for appropriate data within time period, average values and store\n",
    "one_day = pd.Timedelta('1 days')\n",
    "# Each hospital stay, think of it as an individual patient (though technically not true)\n",
    "for hadm_id, group in lab_events:\n",
    "    sub_groups = group.groupby('itemid')\n",
    "    if len(patient_info.loc[patient_info.hadm_id==hadm_id]['admittime'].values)!=0:\n",
    "        admittance_time = patient_info.loc[patient_info.hadm_id==hadm_id]['admittime'].values[0]\n",
    "    else:\n",
    "        admittance_time=np.datetime64('2100-01-01T00:00:00.000000000')\n",
    "    # Each lab item type\n",
    "    for lab_item, sub_group in sub_groups:\n",
    "        if admittance_time!=[]:\n",
    "            day_results = sub_group[((sub_group.charttime - admittance_time) < one_day)]\n",
    "        # Unfortunate special case: If dirty respitory rate value, clean         \n",
    "            if lab_item == 50827:\n",
    "                cleaned_resp = list(map(clean_respiration, day_results['value']))\n",
    "                mean =  np.mean(cleaned_resp)\n",
    "            else:\n",
    "                mean = day_results['valuenum'].values.mean()\n",
    "            patient_vitals.set_value(hadm_id, vital_ids[lab_item], mean)\n",
    "    "
   ]
  },
  {
   "cell_type": "code",
   "execution_count": 438,
   "metadata": {},
   "outputs": [
    {
     "data": {
      "text/html": [
       "<div>\n",
       "<style scoped>\n",
       "    .dataframe tbody tr th:only-of-type {\n",
       "        vertical-align: middle;\n",
       "    }\n",
       "\n",
       "    .dataframe tbody tr th {\n",
       "        vertical-align: top;\n",
       "    }\n",
       "\n",
       "    .dataframe thead th {\n",
       "        text-align: right;\n",
       "    }\n",
       "</style>\n",
       "<table border=\"1\" class=\"dataframe\">\n",
       "  <thead>\n",
       "    <tr style=\"text-align: right;\">\n",
       "      <th></th>\n",
       "      <th>respiration</th>\n",
       "      <th>creatinine</th>\n",
       "      <th>lactate</th>\n",
       "      <th>CRP</th>\n",
       "      <th>WBC</th>\n",
       "      <th>BUN</th>\n",
       "      <th>ESR</th>\n",
       "      <th>platelet</th>\n",
       "      <th>tempurature</th>\n",
       "      <th>oxygen</th>\n",
       "      <th>...</th>\n",
       "      <th>hemoglobin</th>\n",
       "      <th>lymphocytes</th>\n",
       "      <th>MCH</th>\n",
       "      <th>INR</th>\n",
       "      <th>lipase</th>\n",
       "      <th>AST</th>\n",
       "      <th>amylase</th>\n",
       "      <th>alkaline phosphatase</th>\n",
       "      <th>PH</th>\n",
       "      <th>bicarbonate</th>\n",
       "    </tr>\n",
       "    <tr>\n",
       "      <th>hadm_id</th>\n",
       "      <th></th>\n",
       "      <th></th>\n",
       "      <th></th>\n",
       "      <th></th>\n",
       "      <th></th>\n",
       "      <th></th>\n",
       "      <th></th>\n",
       "      <th></th>\n",
       "      <th></th>\n",
       "      <th></th>\n",
       "      <th></th>\n",
       "      <th></th>\n",
       "      <th></th>\n",
       "      <th></th>\n",
       "      <th></th>\n",
       "      <th></th>\n",
       "      <th></th>\n",
       "      <th></th>\n",
       "      <th></th>\n",
       "      <th></th>\n",
       "      <th></th>\n",
       "    </tr>\n",
       "  </thead>\n",
       "  <tbody>\n",
       "    <tr>\n",
       "      <th>122609</th>\n",
       "      <td>NaN</td>\n",
       "      <td>1.220000</td>\n",
       "      <td>1.50</td>\n",
       "      <td>NaN</td>\n",
       "      <td>NaN</td>\n",
       "      <td>56.200000</td>\n",
       "      <td>NaN</td>\n",
       "      <td>82.750000</td>\n",
       "      <td>NaN</td>\n",
       "      <td>NaN</td>\n",
       "      <td>...</td>\n",
       "      <td>8.475000</td>\n",
       "      <td>15.466667</td>\n",
       "      <td>34.25</td>\n",
       "      <td>1.366667</td>\n",
       "      <td>62.0</td>\n",
       "      <td>96.333333</td>\n",
       "      <td>47.0</td>\n",
       "      <td>140.666667</td>\n",
       "      <td>NaN</td>\n",
       "      <td>16.400000</td>\n",
       "    </tr>\n",
       "    <tr>\n",
       "      <th>134462</th>\n",
       "      <td>NaN</td>\n",
       "      <td>1.466667</td>\n",
       "      <td>3.55</td>\n",
       "      <td>224.1</td>\n",
       "      <td>NaN</td>\n",
       "      <td>16.000000</td>\n",
       "      <td>51.0</td>\n",
       "      <td>199.000000</td>\n",
       "      <td>NaN</td>\n",
       "      <td>NaN</td>\n",
       "      <td>...</td>\n",
       "      <td>14.350000</td>\n",
       "      <td>1.500000</td>\n",
       "      <td>35.85</td>\n",
       "      <td>1.150000</td>\n",
       "      <td>19.0</td>\n",
       "      <td>56.500000</td>\n",
       "      <td>90.0</td>\n",
       "      <td>90.000000</td>\n",
       "      <td>NaN</td>\n",
       "      <td>25.000000</td>\n",
       "    </tr>\n",
       "    <tr>\n",
       "      <th>183686</th>\n",
       "      <td>12.0</td>\n",
       "      <td>0.700000</td>\n",
       "      <td>1.80</td>\n",
       "      <td>6.4</td>\n",
       "      <td>NaN</td>\n",
       "      <td>8.666667</td>\n",
       "      <td>NaN</td>\n",
       "      <td>155.666667</td>\n",
       "      <td>38.4</td>\n",
       "      <td>57.5</td>\n",
       "      <td>...</td>\n",
       "      <td>14.033333</td>\n",
       "      <td>8.900000</td>\n",
       "      <td>35.30</td>\n",
       "      <td>1.000000</td>\n",
       "      <td>27.5</td>\n",
       "      <td>82.333333</td>\n",
       "      <td>46.0</td>\n",
       "      <td>68.666667</td>\n",
       "      <td>7.375</td>\n",
       "      <td>23.250000</td>\n",
       "    </tr>\n",
       "    <tr>\n",
       "      <th>111970</th>\n",
       "      <td>NaN</td>\n",
       "      <td>4.200000</td>\n",
       "      <td>1.60</td>\n",
       "      <td>NaN</td>\n",
       "      <td>NaN</td>\n",
       "      <td>49.500000</td>\n",
       "      <td>NaN</td>\n",
       "      <td>353.500000</td>\n",
       "      <td>NaN</td>\n",
       "      <td>NaN</td>\n",
       "      <td>...</td>\n",
       "      <td>9.200000</td>\n",
       "      <td>3.950000</td>\n",
       "      <td>29.90</td>\n",
       "      <td>1.750000</td>\n",
       "      <td>16.0</td>\n",
       "      <td>82.000000</td>\n",
       "      <td>25.0</td>\n",
       "      <td>167.000000</td>\n",
       "      <td>NaN</td>\n",
       "      <td>23.500000</td>\n",
       "    </tr>\n",
       "    <tr>\n",
       "      <th>108923</th>\n",
       "      <td>NaN</td>\n",
       "      <td>7.000000</td>\n",
       "      <td>3.05</td>\n",
       "      <td>NaN</td>\n",
       "      <td>NaN</td>\n",
       "      <td>63.500000</td>\n",
       "      <td>NaN</td>\n",
       "      <td>152.500000</td>\n",
       "      <td>NaN</td>\n",
       "      <td>NaN</td>\n",
       "      <td>...</td>\n",
       "      <td>10.600000</td>\n",
       "      <td>4.100000</td>\n",
       "      <td>34.75</td>\n",
       "      <td>1.300000</td>\n",
       "      <td>NaN</td>\n",
       "      <td>32.000000</td>\n",
       "      <td>NaN</td>\n",
       "      <td>44.000000</td>\n",
       "      <td>NaN</td>\n",
       "      <td>28.333333</td>\n",
       "    </tr>\n",
       "  </tbody>\n",
       "</table>\n",
       "<p>5 rows × 29 columns</p>\n",
       "</div>"
      ],
      "text/plain": [
       "         respiration  creatinine  lactate    CRP  WBC        BUN   ESR  \\\n",
       "hadm_id                                                                  \n",
       "122609           NaN    1.220000     1.50    NaN  NaN  56.200000   NaN   \n",
       "134462           NaN    1.466667     3.55  224.1  NaN  16.000000  51.0   \n",
       "183686          12.0    0.700000     1.80    6.4  NaN   8.666667   NaN   \n",
       "111970           NaN    4.200000     1.60    NaN  NaN  49.500000   NaN   \n",
       "108923           NaN    7.000000     3.05    NaN  NaN  63.500000   NaN   \n",
       "\n",
       "           platelet  tempurature  oxygen  ...  hemoglobin  lymphocytes    MCH  \\\n",
       "hadm_id                                   ...                                   \n",
       "122609    82.750000          NaN     NaN  ...    8.475000    15.466667  34.25   \n",
       "134462   199.000000          NaN     NaN  ...   14.350000     1.500000  35.85   \n",
       "183686   155.666667         38.4    57.5  ...   14.033333     8.900000  35.30   \n",
       "111970   353.500000          NaN     NaN  ...    9.200000     3.950000  29.90   \n",
       "108923   152.500000          NaN     NaN  ...   10.600000     4.100000  34.75   \n",
       "\n",
       "              INR  lipase        AST  amylase  alkaline phosphatase     PH  \\\n",
       "hadm_id                                                                      \n",
       "122609   1.366667    62.0  96.333333     47.0            140.666667    NaN   \n",
       "134462   1.150000    19.0  56.500000     90.0             90.000000    NaN   \n",
       "183686   1.000000    27.5  82.333333     46.0             68.666667  7.375   \n",
       "111970   1.750000    16.0  82.000000     25.0            167.000000    NaN   \n",
       "108923   1.300000     NaN  32.000000      NaN             44.000000    NaN   \n",
       "\n",
       "         bicarbonate  \n",
       "hadm_id               \n",
       "122609     16.400000  \n",
       "134462     25.000000  \n",
       "183686     23.250000  \n",
       "111970     23.500000  \n",
       "108923     28.333333  \n",
       "\n",
       "[5 rows x 29 columns]"
      ]
     },
     "execution_count": 438,
     "metadata": {},
     "output_type": "execute_result"
    }
   ],
   "source": [
    "patient_vitals.head()"
   ]
  },
  {
   "cell_type": "code",
   "execution_count": 439,
   "metadata": {},
   "outputs": [
    {
     "data": {
      "text/plain": [
       "respiration             57082\n",
       "creatinine              56139\n",
       "lactate                 56217\n",
       "CRP                     57124\n",
       "WBC                     57303\n",
       "BUN                     56139\n",
       "ESR                     57251\n",
       "platelet                56139\n",
       "tempurature             56765\n",
       "oxygen                  56967\n",
       "PT                      56203\n",
       "PTT                     56199\n",
       "RBCDW                   56141\n",
       "neutrophils             56189\n",
       "pco2                    56543\n",
       "po2                     56543\n",
       "calcium                 56154\n",
       "glucose                 56140\n",
       "hematocrit              56140\n",
       "hemoglobin              56141\n",
       "lymphocytes             56189\n",
       "MCH                     56142\n",
       "INR                     56199\n",
       "lipase                  56567\n",
       "AST                     56314\n",
       "amylase                 56758\n",
       "alkaline phosphatase    56329\n",
       "PH                      56486\n",
       "bicarbonate             56145\n",
       "dtype: int64"
      ]
     },
     "execution_count": 439,
     "metadata": {},
     "output_type": "execute_result"
    }
   ],
   "source": [
    "# Check which features are not worth considering due to lack of information\n",
    "patient_vitals.isnull().sum()"
   ]
  },
  {
   "cell_type": "markdown",
   "metadata": {},
   "source": [
    "I made the near-sighted assumption that most patients would have these vitals taken within the first day. It is possible some of these measurements, such as temperature, are recorded elsewhere in the database. For data within the lab events table, though, I will need to trim some of this data due to the lack of values. The few instances with no information will be filled in with the mean values. For the ML phase, I may need to trim some patients out that have no recorded values or died within the first day of entering the ICU."
   ]
  },
  {
   "cell_type": "code",
   "execution_count": 440,
   "metadata": {},
   "outputs": [],
   "source": [
    "# Vitals that will be kept. The rest dropped due to lack of data\n",
    "keep_vitals = ['bicarbonate' ,'INR' ,'MCH' ,'AST', 'alkaline phosphatase' ,'PH', 'creatinine', 'platelet', 'PT', 'PTT', 'lymphocytes', 'RBCDW', 'calcium', 'neutrophils', 'glucose', 'hematocrit', 'hemoglobin', 'lactate', 'BUN']\n",
    "patient_vitals_fixed = patient_vitals[keep_vitals]"
   ]
  },
  {
   "cell_type": "code",
   "execution_count": 441,
   "metadata": {},
   "outputs": [],
   "source": [
    "# Replace NaN values with the mean of each column. In the actual ML phase it may be worth figuring out WHY\n",
    "# Some values are missing. Here we will simply continue with mean.\n",
    "patient_vitals_fixed = patient_vitals_fixed.fillna(patient_vitals.mean())"
   ]
  },
  {
   "cell_type": "code",
   "execution_count": 442,
   "metadata": {},
   "outputs": [],
   "source": [
    "# Add age column prior to standardization\n",
    "keep_vitals.append('age')"
   ]
  },
  {
   "cell_type": "code",
   "execution_count": 443,
   "metadata": {},
   "outputs": [
    {
     "data": {
      "text/html": [
       "<div>\n",
       "<style scoped>\n",
       "    .dataframe tbody tr th:only-of-type {\n",
       "        vertical-align: middle;\n",
       "    }\n",
       "\n",
       "    .dataframe tbody tr th {\n",
       "        vertical-align: top;\n",
       "    }\n",
       "\n",
       "    .dataframe thead th {\n",
       "        text-align: right;\n",
       "    }\n",
       "</style>\n",
       "<table border=\"1\" class=\"dataframe\">\n",
       "  <thead>\n",
       "    <tr style=\"text-align: right;\">\n",
       "      <th></th>\n",
       "      <th>bicarbonate</th>\n",
       "      <th>INR</th>\n",
       "      <th>MCH</th>\n",
       "      <th>AST</th>\n",
       "      <th>alkaline phosphatase</th>\n",
       "      <th>PH</th>\n",
       "      <th>creatinine</th>\n",
       "      <th>platelet</th>\n",
       "      <th>PT</th>\n",
       "      <th>PTT</th>\n",
       "      <th>lymphocytes</th>\n",
       "      <th>RBCDW</th>\n",
       "      <th>calcium</th>\n",
       "      <th>neutrophils</th>\n",
       "      <th>glucose</th>\n",
       "      <th>hematocrit</th>\n",
       "      <th>hemoglobin</th>\n",
       "      <th>lactate</th>\n",
       "      <th>BUN</th>\n",
       "    </tr>\n",
       "    <tr>\n",
       "      <th>hadm_id</th>\n",
       "      <th></th>\n",
       "      <th></th>\n",
       "      <th></th>\n",
       "      <th></th>\n",
       "      <th></th>\n",
       "      <th></th>\n",
       "      <th></th>\n",
       "      <th></th>\n",
       "      <th></th>\n",
       "      <th></th>\n",
       "      <th></th>\n",
       "      <th></th>\n",
       "      <th></th>\n",
       "      <th></th>\n",
       "      <th></th>\n",
       "      <th></th>\n",
       "      <th></th>\n",
       "      <th></th>\n",
       "      <th></th>\n",
       "    </tr>\n",
       "  </thead>\n",
       "  <tbody>\n",
       "    <tr>\n",
       "      <th>122609</th>\n",
       "      <td>16.400000</td>\n",
       "      <td>1.366667</td>\n",
       "      <td>34.25</td>\n",
       "      <td>96.333333</td>\n",
       "      <td>140.666667</td>\n",
       "      <td>7.329011</td>\n",
       "      <td>1.220000</td>\n",
       "      <td>82.750000</td>\n",
       "      <td>29.233333</td>\n",
       "      <td>15.466667</td>\n",
       "      <td>15.466667</td>\n",
       "      <td>15.250000</td>\n",
       "      <td>7.260000</td>\n",
       "      <td>77.133333</td>\n",
       "      <td>179.800000</td>\n",
       "      <td>26.675000</td>\n",
       "      <td>8.475000</td>\n",
       "      <td>1.50</td>\n",
       "      <td>56.200000</td>\n",
       "    </tr>\n",
       "    <tr>\n",
       "      <th>134462</th>\n",
       "      <td>25.000000</td>\n",
       "      <td>1.150000</td>\n",
       "      <td>35.85</td>\n",
       "      <td>56.500000</td>\n",
       "      <td>90.000000</td>\n",
       "      <td>7.329011</td>\n",
       "      <td>1.466667</td>\n",
       "      <td>199.000000</td>\n",
       "      <td>29.150000</td>\n",
       "      <td>13.300000</td>\n",
       "      <td>1.500000</td>\n",
       "      <td>16.350000</td>\n",
       "      <td>7.900000</td>\n",
       "      <td>86.500000</td>\n",
       "      <td>154.000000</td>\n",
       "      <td>41.600000</td>\n",
       "      <td>14.350000</td>\n",
       "      <td>3.55</td>\n",
       "      <td>16.000000</td>\n",
       "    </tr>\n",
       "    <tr>\n",
       "      <th>183686</th>\n",
       "      <td>23.250000</td>\n",
       "      <td>1.000000</td>\n",
       "      <td>35.30</td>\n",
       "      <td>82.333333</td>\n",
       "      <td>68.666667</td>\n",
       "      <td>7.375000</td>\n",
       "      <td>0.700000</td>\n",
       "      <td>155.666667</td>\n",
       "      <td>31.000000</td>\n",
       "      <td>12.000000</td>\n",
       "      <td>8.900000</td>\n",
       "      <td>13.733333</td>\n",
       "      <td>8.075000</td>\n",
       "      <td>83.700000</td>\n",
       "      <td>158.250000</td>\n",
       "      <td>39.925000</td>\n",
       "      <td>14.033333</td>\n",
       "      <td>1.80</td>\n",
       "      <td>8.666667</td>\n",
       "    </tr>\n",
       "    <tr>\n",
       "      <th>111970</th>\n",
       "      <td>23.500000</td>\n",
       "      <td>1.750000</td>\n",
       "      <td>29.90</td>\n",
       "      <td>82.000000</td>\n",
       "      <td>167.000000</td>\n",
       "      <td>7.329011</td>\n",
       "      <td>4.200000</td>\n",
       "      <td>353.500000</td>\n",
       "      <td>37.600000</td>\n",
       "      <td>18.600000</td>\n",
       "      <td>3.950000</td>\n",
       "      <td>17.300000</td>\n",
       "      <td>7.700000</td>\n",
       "      <td>91.250000</td>\n",
       "      <td>189.000000</td>\n",
       "      <td>30.100000</td>\n",
       "      <td>9.200000</td>\n",
       "      <td>1.60</td>\n",
       "      <td>49.500000</td>\n",
       "    </tr>\n",
       "    <tr>\n",
       "      <th>108923</th>\n",
       "      <td>28.333333</td>\n",
       "      <td>1.300000</td>\n",
       "      <td>34.75</td>\n",
       "      <td>32.000000</td>\n",
       "      <td>44.000000</td>\n",
       "      <td>7.329011</td>\n",
       "      <td>7.000000</td>\n",
       "      <td>152.500000</td>\n",
       "      <td>24.650000</td>\n",
       "      <td>14.100000</td>\n",
       "      <td>4.100000</td>\n",
       "      <td>16.150000</td>\n",
       "      <td>8.766667</td>\n",
       "      <td>93.500000</td>\n",
       "      <td>98.666667</td>\n",
       "      <td>30.733333</td>\n",
       "      <td>10.600000</td>\n",
       "      <td>3.05</td>\n",
       "      <td>63.500000</td>\n",
       "    </tr>\n",
       "  </tbody>\n",
       "</table>\n",
       "</div>"
      ],
      "text/plain": [
       "         bicarbonate       INR    MCH        AST  alkaline phosphatase  \\\n",
       "hadm_id                                                                  \n",
       "122609     16.400000  1.366667  34.25  96.333333            140.666667   \n",
       "134462     25.000000  1.150000  35.85  56.500000             90.000000   \n",
       "183686     23.250000  1.000000  35.30  82.333333             68.666667   \n",
       "111970     23.500000  1.750000  29.90  82.000000            167.000000   \n",
       "108923     28.333333  1.300000  34.75  32.000000             44.000000   \n",
       "\n",
       "               PH  creatinine    platelet         PT        PTT  lymphocytes  \\\n",
       "hadm_id                                                                        \n",
       "122609   7.329011    1.220000   82.750000  29.233333  15.466667    15.466667   \n",
       "134462   7.329011    1.466667  199.000000  29.150000  13.300000     1.500000   \n",
       "183686   7.375000    0.700000  155.666667  31.000000  12.000000     8.900000   \n",
       "111970   7.329011    4.200000  353.500000  37.600000  18.600000     3.950000   \n",
       "108923   7.329011    7.000000  152.500000  24.650000  14.100000     4.100000   \n",
       "\n",
       "             RBCDW   calcium  neutrophils     glucose  hematocrit  hemoglobin  \\\n",
       "hadm_id                                                                         \n",
       "122609   15.250000  7.260000    77.133333  179.800000   26.675000    8.475000   \n",
       "134462   16.350000  7.900000    86.500000  154.000000   41.600000   14.350000   \n",
       "183686   13.733333  8.075000    83.700000  158.250000   39.925000   14.033333   \n",
       "111970   17.300000  7.700000    91.250000  189.000000   30.100000    9.200000   \n",
       "108923   16.150000  8.766667    93.500000   98.666667   30.733333   10.600000   \n",
       "\n",
       "         lactate        BUN  \n",
       "hadm_id                      \n",
       "122609      1.50  56.200000  \n",
       "134462      3.55  16.000000  \n",
       "183686      1.80   8.666667  \n",
       "111970      1.60  49.500000  \n",
       "108923      3.05  63.500000  "
      ]
     },
     "execution_count": 443,
     "metadata": {},
     "output_type": "execute_result"
    }
   ],
   "source": [
    "patient_vitals_fixed.head()"
   ]
  },
  {
   "cell_type": "code",
   "execution_count": 444,
   "metadata": {},
   "outputs": [],
   "source": [
    "# New patient info dataframe finally with vitals\n",
    "vital_patient_info = patient_info.join(patient_vitals_fixed, on='hadm_id')"
   ]
  },
  {
   "cell_type": "code",
   "execution_count": 445,
   "metadata": {},
   "outputs": [],
   "source": [
    "# Standardize the data from vital columns\n",
    "stdsc = preprocessing.StandardScaler()\n",
    "vital_patient_info[keep_vitals] = stdsc.fit_transform(vital_patient_info[keep_vitals])"
   ]
  },
  {
   "cell_type": "code",
   "execution_count": 446,
   "metadata": {},
   "outputs": [],
   "source": [
    "# New pos and neg df for easy consideration of survival\n",
    "pos = vital_patient_info[vital_patient_info['death_period'] == 0]\n",
    "neg = vital_patient_info[vital_patient_info['death_period'] == 1]"
   ]
  },
  {
   "cell_type": "markdown",
   "metadata": {},
   "source": [
    "--------------------------------------------------------------------------------------------------------------------------------------------"
   ]
  },
  {
   "cell_type": "markdown",
   "metadata": {},
   "source": [
    "## Visualize Patient Vitals\n",
    "\n",
    "Now that we have gathered feasible patient vitals and it will be useful to see the distribution of such information and if there is any visual correlation between 30 day mortality and initial readings.\n",
    "\n"
   ]
  },
  {
   "cell_type": "code",
   "execution_count": 336,
   "metadata": {},
   "outputs": [],
   "source": [
    "vital_columns = keep_vitals[:]\n",
    "vital_columns.extend(['death_period'])"
   ]
  },
  {
   "cell_type": "code",
   "execution_count": 337,
   "metadata": {},
   "outputs": [],
   "source": [
    "vitals_only = vital_patient_info[vital_columns]"
   ]
  },
  {
   "cell_type": "code",
   "execution_count": 338,
   "metadata": {},
   "outputs": [
    {
     "data": {
      "text/plain": [
       "<matplotlib.axes._subplots.AxesSubplot at 0x7f1ddfa2a7f0>"
      ]
     },
     "execution_count": 338,
     "metadata": {},
     "output_type": "execute_result"
    },
    {
     "data": {
      "image/png": "[encoded data removed]",
      "text/plain": [
       "<Figure size 432x288 with 2 Axes>"
      ]
     },
     "metadata": {
      "needs_background": "light"
     },
     "output_type": "display_data"
    }
   ],
   "source": [
    "# Observe correlation of values\n",
    "correlation_df = vitals_only.corr().copy()\n",
    "sns.heatmap(correlation_df)"
   ]
  },
  {
   "cell_type": "markdown",
   "metadata": {},
   "source": [
    "While this doesn't throw any obvious red flags in correlation, it is important to note that this is thousands of human bodies and results are varied with many factors playing a role. There are several interesting correlations that are unrelated to mortality. Lymphocytes and neutrophils are quite strongly negatively correlated with these tests. PT and PTT are relatively strongly correlated, which makes sense since they are both clotting factor tests. Hematocrit and hemoglobin are very strongly correlated which also makes sense. Hematocrit tests for \"the ratio of the volume of red blood cells to the total volume of blood\", while hemoglobin tests for \"a red protein responsible for transporting oxygen in the blood of vertebrates\".\n",
    "\n",
    "Next, we will just observe the mortality rate and associated correlations."
   ]
  },
  {
   "cell_type": "code",
   "execution_count": 339,
   "metadata": {},
   "outputs": [
    {
     "data": {
      "text/plain": [
       "<matplotlib.axes._subplots.AxesSubplot at 0x7f1ca9aafba8>"
      ]
     },
     "execution_count": 339,
     "metadata": {},
     "output_type": "execute_result"
    },
    {
     "data": {
      "image/png": "[encoded data removed]",
      "text/plain": [
       "<Figure size 432x288 with 1 Axes>"
      ]
     },
     "metadata": {
      "needs_background": "light"
     },
     "output_type": "display_data"
    }
   ],
   "source": [
    "tst = correlation_df['death_period']\n",
    "tst = tst.drop('death_period')\n",
    "tst.sort_values(inplace=True)\n",
    "tst.plot(kind='bar', alpha=0.6)"
   ]
  },
  {
   "cell_type": "markdown",
   "metadata": {
    "collapsed": true
   },
   "source": [
    "A very interesting view of correlation to mortality can be seen here. From my previous study, platelet count, glucose levels, and creatinine are strongly correlated with the survivability of a septic condition. Here we can see, that isn't necessarily true. Lactate levels, as suspected, are strongly correlated, however. Why is this? Lactate levels in the blood indicate anaerobic cellular respiration this means that cells are producing lactic acid instead of respiring normally, producing CO2. The production of lactic acid means cells are not receiving oxygen, a sign of septic shock. This is promising. While BUN is not highly correlated with mortality, it is somewhat useful. BUN indicates blood urea nitrogen levels. This is an indication that the kidneys are not properly filtering urea from the blood. This is a good indication of organ dysfunction."
   ]
  },
  {
   "cell_type": "code",
   "execution_count": 340,
   "metadata": {},
   "outputs": [
    {
     "data": {
      "image/png": "[encoded data removed]",
      "text/plain": [
       "<Figure size 576x720 with 14 Axes>"
      ]
     },
     "metadata": {
      "needs_background": "light"
     },
     "output_type": "display_data"
    }
   ],
   "source": [
    "vital_columns_cp = vital_columns[:]\n",
    "vital_columns_cp.remove('death_period')\n",
    "\n",
    "plt.rcParams.update({'font.size': 8})\n",
    "fig, axes = plt.subplots(nrows=7, ncols=2, figsize=(8,10))\n",
    "axes = axes.ravel()\n",
    "for idx,axis in enumerate(axes):\n",
    "    axis.figure\n",
    "    \n",
    "    binwidth= (max(vitals_only[vital_columns_cp[idx]]) - min(vitals_only[vital_columns_cp[idx]]))/50\n",
    "    bins = 50\n",
    "    axis.hist([neg[vital_columns_cp[idx]],pos[vital_columns_cp[idx]]], bins=bins, alpha=0.6, normed=True, label=['Deceased','Survived'], color=['red','blue'])\n",
    "    axis.legend(loc='upper right')\n",
    "    axis.set_title(vital_columns_cp[idx])\n",
    "plt.tight_layout()"
   ]
  },
  {
   "cell_type": "markdown",
   "metadata": {},
   "source": [
    "Again, nothing jumps out as a red flag clearly indicating survivability here, but there are some useful trends within each feature. There appears to be a slight indication of mortality with low platelet counts. The extended positive tail associated with mortality on PT, PTT, RBCDW, lactate, and BUN are useful. The negative increasing tail associated with mortality in neutrophils is also a useful feature.\n",
    "\n",
    "While I would have been happy seeing several strongly correlated features, this is promising information. Next, let us conduct principal component analysis to further look at how features interact."
   ]
  },
  {
   "cell_type": "markdown",
   "metadata": {},
   "source": [
    "## Principal Component Analysis\n"
   ]
  },
  {
   "cell_type": "code",
   "execution_count": 341,
   "metadata": {},
   "outputs": [],
   "source": [
    "from sklearn.decomposition import PCA\n",
    "\n",
    "def pca_explain(observables, components=3):\n",
    "    pca = PCA(n_components=components)\n",
    "    pca.fit(observables)\n",
    "\n",
    "    # Dimension indexing\n",
    "    dimensions = dimensions = ['Dimension {}'.format(i) for i in range(1,len(pca.components_)+1)]\n",
    "\n",
    "    # Individual PCA Components\n",
    "    components = pd.DataFrame(np.round(pca.components_, 4), columns = observables.keys())\n",
    "    components.index = dimensions\n",
    "\n",
    "    # Explained variance in PCA\n",
    "    ratios = pca.explained_variance_ratio_.reshape(len(pca.components_), 1)\n",
    "    variance_ratios = pd.DataFrame(np.round(ratios, 4), columns = ['Explained Variance'])\n",
    "    variance_ratios.index = dimensions\n",
    "\n",
    "    print(pd.concat([variance_ratios, components], axis = 1))"
   ]
  },
  {
   "cell_type": "code",
   "execution_count": 342,
   "metadata": {},
   "outputs": [],
   "source": [
    "observables = vitals_only\n",
    "observables = observables.drop('death_period', 1)"
   ]
  },
  {
   "cell_type": "code",
   "execution_count": 343,
   "metadata": {},
   "outputs": [
    {
     "name": "stdout",
     "output_type": "stream",
     "text": [
      "             Explained Variance  bicarbonate     INR     MCH     AST  \\\n",
      "Dimension 1              0.1436      -0.3203  0.3732  0.0843  0.2736   \n",
      "Dimension 2              0.1202       0.0198  0.2107 -0.2133 -0.0586   \n",
      "Dimension 3              0.0930      -0.1392 -0.2436  0.1431 -0.0595   \n",
      "Dimension 4              0.0738       0.4222  0.3515 -0.0593 -0.0354   \n",
      "Dimension 5              0.0711       0.1026 -0.0400 -0.0432 -0.0458   \n",
      "\n",
      "             alkaline phosphatase      PH  creatinine  platelet      PT  ...  \\\n",
      "Dimension 1                0.0280 -0.3822      0.0750   -0.1569  0.3293  ...   \n",
      "Dimension 2                0.1196  0.0492      0.0623    0.1570  0.1110  ...   \n",
      "Dimension 3               -0.0765 -0.0772     -0.1122   -0.2297 -0.0558  ...   \n",
      "Dimension 4               -0.0314  0.2352     -0.1506   -0.0254  0.1583  ...   \n",
      "Dimension 5                0.1154  0.0660      0.4115    0.0573 -0.1509  ...   \n",
      "\n",
      "             lymphocytes   RBCDW  calcium  neutrophils  glucose  hematocrit  \\\n",
      "Dimension 1       0.0598  0.0494  -0.1282      -0.1793   0.0623      0.1111   \n",
      "Dimension 2      -0.0507  0.3684  -0.0197       0.0817  -0.1583     -0.5186   \n",
      "Dimension 3       0.5027  0.0729  -0.2009      -0.5411  -0.0363     -0.2727   \n",
      "Dimension 4       0.3316  0.1150   0.1942      -0.2216  -0.1749      0.1458   \n",
      "Dimension 5       0.3157  0.2160   0.5167      -0.2143   0.2510      0.1200   \n",
      "\n",
      "             hemoglobin  lactate     BUN     age  \n",
      "Dimension 1      0.0860   0.4120  0.1480 -0.0172  \n",
      "Dimension 2     -0.5645  -0.0714  0.1919  0.0420  \n",
      "Dimension 3     -0.2215   0.0450 -0.1267 -0.1088  \n",
      "Dimension 4      0.1440  -0.1703 -0.3341 -0.2003  \n",
      "Dimension 5      0.0687   0.1084  0.3836  0.2594  \n",
      "\n",
      "[5 rows x 21 columns]\n"
     ]
    }
   ],
   "source": [
    "pca_explain(observables, 5)"
   ]
  },
  {
   "cell_type": "markdown",
   "metadata": {},
   "source": [
    "This PCA breakdown gives a good indication of how features are correlated and explain variance. It is important to note that the features that are involved in PCA must be standardized to obtain any useful results. In these five components only about 60% of variance is explained. This makes it more clear the features are not all strongly correlated and cannot easily be collapsed into fewer dimensions. It may be useful to remove features that clearly do not help explain the survivability of sepsis prior to utilizing dimensional reduction."
   ]
  },
  {
   "cell_type": "markdown",
   "metadata": {},
   "source": [
    "## Linear Discriminant Analysis"
   ]
  },
  {
   "cell_type": "code",
   "execution_count": 362,
   "metadata": {},
   "outputs": [],
   "source": [
    "from sklearn.discriminant_analysis import LinearDiscriminantAnalysis\n",
    "\n",
    "def lda_explain(X, y):\n",
    "    lda = LinearDiscriminantAnalysis(solver='eigen', shrinkage = 'auto')\n",
    "    lda.fit(X, y)\n",
    "\n",
    "    # Dimension indexing\n",
    "    dimensions = dimensions = ['Dimension {}'.format(i) for i in range(1,len(X.columns)+1)]\n",
    "    \n",
    "    \n",
    "    # Individual LDA Components\n",
    "    components = pd.DataFrame(np.round(lda.covariance_, 4), columns = observables.keys())\n",
    "    components.index = dimensions\n",
    "\n",
    "    # Explained variance in LDA\n",
    "    ratios = np.array(list(lda.explained_variance_ratio_)).reshape(len(X.columns), 1)\n",
    "    variance_ratios = pd.DataFrame(np.round(ratios, 4), columns = ['Explained Variance'])\n",
    "    variance_ratios.index = dimensions\n",
    "\n",
    "    print(pd.concat([variance_ratios, components], axis = 1))"
   ]
  },
  {
   "cell_type": "code",
   "execution_count": 364,
   "metadata": {},
   "outputs": [
    {
     "data": {
      "text/plain": [
       "array([1.5370039])"
      ]
     },
     "execution_count": 364,
     "metadata": {},
     "output_type": "execute_result"
    }
   ],
   "source": [
    "#lda_explain(observables, vitals_only['death_period'])\n",
    "lda = LinearDiscriminantAnalysis(solver='eigen', shrinkage = 'auto')\n",
    "lda.fit(observables, vitals_only['death_period'])\n",
    "lda.explained_variance_ratio_\n"
   ]
  },
  {
   "cell_type": "markdown",
   "metadata": {},
   "source": [
    "## Microbiology Events\n",
    "We have seen how some basic vitals play a role in correlation with mortality. It may be that certain types of infection also have a strong correlation to mortality as well. Here a 24 hour reading of infection will be obtained, with zero, one, or multiple types of infection. It will be encoded properly and visualized."
   ]
  },
  {
   "cell_type": "code",
   "execution_count": 375,
   "metadata": {},
   "outputs": [],
   "source": [
    "# Beautiful query /sarcasm\n",
    "#bio_event_query = session.query(BioEvent).filter(BioEvent.hadm_id.in_(patient_hadm_ids)).filter(BioEvent.org_name != None)\n",
    "\n",
    "# print bio_event_query\n",
    "#bio_events = pd.read_sql(bio_event_query.statement, bio_event_query.session.bind)\n",
    "bio_events=pd.read_sql_query(\"Select * from [mimiciii.microbiologyevents] where ([mimiciii.microbiologyevents].hadm_id in (select  hadm_id from [mimiciii.patients] join [mimiciii.admissions] on [mimiciii.patients].subject_id=[mimiciii.admissions].subject_id where [mimiciii.admissions].diagnosis='SEPSIS')) and  [mimiciii.microbiologyevents].org_name is not Null\",conn)\n",
    "\n",
    "\n",
    "bio_events=bio_events.groupby('hadm_id')\n"
   ]
  },
  {
   "cell_type": "code",
   "execution_count": 377,
   "metadata": {},
   "outputs": [
    {
     "data": {
      "text/html": [
       "<div>\n",
       "<style scoped>\n",
       "    .dataframe tbody tr th:only-of-type {\n",
       "        vertical-align: middle;\n",
       "    }\n",
       "\n",
       "    .dataframe tbody tr th {\n",
       "        vertical-align: top;\n",
       "    }\n",
       "\n",
       "    .dataframe thead th {\n",
       "        text-align: right;\n",
       "    }\n",
       "</style>\n",
       "<table border=\"1\" class=\"dataframe\">\n",
       "  <thead>\n",
       "    <tr style=\"text-align: right;\">\n",
       "      <th></th>\n",
       "      <th>row_id</th>\n",
       "      <th>subject_id</th>\n",
       "      <th>hadm_id</th>\n",
       "      <th>chartdate</th>\n",
       "      <th>charttime</th>\n",
       "      <th>spec_itemid</th>\n",
       "      <th>spec_type_desc</th>\n",
       "      <th>org_itemid</th>\n",
       "      <th>org_name</th>\n",
       "      <th>isolate_num</th>\n",
       "      <th>ab_itemid</th>\n",
       "      <th>ab_name</th>\n",
       "      <th>dilution_text</th>\n",
       "      <th>dilution_comparison</th>\n",
       "      <th>dilution_value</th>\n",
       "      <th>interpretation</th>\n",
       "    </tr>\n",
       "  </thead>\n",
       "  <tbody>\n",
       "    <tr>\n",
       "      <th>0</th>\n",
       "      <td>29485</td>\n",
       "      <td>2322</td>\n",
       "      <td>106895</td>\n",
       "      <td>2177-09-29</td>\n",
       "      <td>2177-09-29 22:07:00</td>\n",
       "      <td>70023.0</td>\n",
       "      <td>CATHETER TIP-IV</td>\n",
       "      <td>80155.0</td>\n",
       "      <td>STAPHYLOCOCCUS, COAGULASE NEGATIVE</td>\n",
       "      <td>1</td>\n",
       "      <td>90015.0</td>\n",
       "      <td>VANCOMYCIN</td>\n",
       "      <td>2</td>\n",
       "      <td>=</td>\n",
       "      <td>2.0</td>\n",
       "      <td>S</td>\n",
       "    </tr>\n",
       "    <tr>\n",
       "      <th>1</th>\n",
       "      <td>29486</td>\n",
       "      <td>2322</td>\n",
       "      <td>106895</td>\n",
       "      <td>2177-09-29</td>\n",
       "      <td>2177-09-29 22:07:00</td>\n",
       "      <td>70023.0</td>\n",
       "      <td>CATHETER TIP-IV</td>\n",
       "      <td>80155.0</td>\n",
       "      <td>STAPHYLOCOCCUS, COAGULASE NEGATIVE</td>\n",
       "      <td>1</td>\n",
       "      <td>90027.0</td>\n",
       "      <td>RIFAMPIN</td>\n",
       "      <td>&lt;=0.5</td>\n",
       "      <td>&lt;=</td>\n",
       "      <td>1.0</td>\n",
       "      <td>S</td>\n",
       "    </tr>\n",
       "    <tr>\n",
       "      <th>2</th>\n",
       "      <td>29487</td>\n",
       "      <td>2322</td>\n",
       "      <td>106895</td>\n",
       "      <td>2177-09-29</td>\n",
       "      <td>2177-09-29 22:07:00</td>\n",
       "      <td>70023.0</td>\n",
       "      <td>CATHETER TIP-IV</td>\n",
       "      <td>80155.0</td>\n",
       "      <td>STAPHYLOCOCCUS, COAGULASE NEGATIVE</td>\n",
       "      <td>1</td>\n",
       "      <td>90016.0</td>\n",
       "      <td>OXACILLIN</td>\n",
       "      <td>=&gt;4</td>\n",
       "      <td>=&gt;</td>\n",
       "      <td>4.0</td>\n",
       "      <td>R</td>\n",
       "    </tr>\n",
       "    <tr>\n",
       "      <th>3</th>\n",
       "      <td>29488</td>\n",
       "      <td>2322</td>\n",
       "      <td>106895</td>\n",
       "      <td>2177-09-29</td>\n",
       "      <td>2177-09-29 22:07:00</td>\n",
       "      <td>70023.0</td>\n",
       "      <td>CATHETER TIP-IV</td>\n",
       "      <td>80155.0</td>\n",
       "      <td>STAPHYLOCOCCUS, COAGULASE NEGATIVE</td>\n",
       "      <td>1</td>\n",
       "      <td>90012.0</td>\n",
       "      <td>GENTAMICIN</td>\n",
       "      <td>=&gt;16</td>\n",
       "      <td>=&gt;</td>\n",
       "      <td>16.0</td>\n",
       "      <td>R</td>\n",
       "    </tr>\n",
       "    <tr>\n",
       "      <th>4</th>\n",
       "      <td>29489</td>\n",
       "      <td>2322</td>\n",
       "      <td>106895</td>\n",
       "      <td>2177-09-29</td>\n",
       "      <td>2177-09-29 22:07:00</td>\n",
       "      <td>70023.0</td>\n",
       "      <td>CATHETER TIP-IV</td>\n",
       "      <td>80155.0</td>\n",
       "      <td>STAPHYLOCOCCUS, COAGULASE NEGATIVE</td>\n",
       "      <td>1</td>\n",
       "      <td>90011.0</td>\n",
       "      <td>TETRACYCLINE</td>\n",
       "      <td>=&gt;16</td>\n",
       "      <td>=&gt;</td>\n",
       "      <td>16.0</td>\n",
       "      <td>R</td>\n",
       "    </tr>\n",
       "  </tbody>\n",
       "</table>\n",
       "</div>"
      ],
      "text/plain": [
       "   row_id  subject_id  hadm_id  chartdate           charttime  spec_itemid  \\\n",
       "0   29485        2322   106895 2177-09-29 2177-09-29 22:07:00      70023.0   \n",
       "1   29486        2322   106895 2177-09-29 2177-09-29 22:07:00      70023.0   \n",
       "2   29487        2322   106895 2177-09-29 2177-09-29 22:07:00      70023.0   \n",
       "3   29488        2322   106895 2177-09-29 2177-09-29 22:07:00      70023.0   \n",
       "4   29489        2322   106895 2177-09-29 2177-09-29 22:07:00      70023.0   \n",
       "\n",
       "    spec_type_desc  org_itemid                            org_name  \\\n",
       "0  CATHETER TIP-IV     80155.0  STAPHYLOCOCCUS, COAGULASE NEGATIVE   \n",
       "1  CATHETER TIP-IV     80155.0  STAPHYLOCOCCUS, COAGULASE NEGATIVE   \n",
       "2  CATHETER TIP-IV     80155.0  STAPHYLOCOCCUS, COAGULASE NEGATIVE   \n",
       "3  CATHETER TIP-IV     80155.0  STAPHYLOCOCCUS, COAGULASE NEGATIVE   \n",
       "4  CATHETER TIP-IV     80155.0  STAPHYLOCOCCUS, COAGULASE NEGATIVE   \n",
       "\n",
       "   isolate_num  ab_itemid       ab_name dilution_text dilution_comparison  \\\n",
       "0            1    90015.0    VANCOMYCIN             2                   =   \n",
       "1            1    90027.0      RIFAMPIN         <=0.5                  <=   \n",
       "2            1    90016.0     OXACILLIN           =>4                  =>   \n",
       "3            1    90012.0    GENTAMICIN          =>16                  =>   \n",
       "4            1    90011.0  TETRACYCLINE          =>16                  =>   \n",
       "\n",
       "   dilution_value interpretation  \n",
       "0             2.0              S  \n",
       "1             1.0              S  \n",
       "2             4.0              R  \n",
       "3            16.0              R  \n",
       "4            16.0              R  "
      ]
     },
     "execution_count": 377,
     "metadata": {},
     "output_type": "execute_result"
    }
   ],
   "source": [
    "test_bio_events = pd.read_sql_query(\"Select * from [mimiciii.microbiologyevents] where ([mimiciii.microbiologyevents].hadm_id in (select  hadm_id from [mimiciii.patients] join [mimiciii.admissions] on [mimiciii.patients].subject_id=[mimiciii.admissions].subject_id where [mimiciii.admissions].diagnosis='SEPSIS')) and  [mimiciii.microbiologyevents].org_name is not Null\",conn)\n",
    "test_bio_events.head()"
   ]
  },
  {
   "cell_type": "code",
   "execution_count": 378,
   "metadata": {},
   "outputs": [],
   "source": [
    "# Prepare joining copy of patient vitals\n",
    "patient_bio = patient_info[['hadm_id']].copy()\n",
    "patient_bio['infection'] = np.nan\n",
    "patient_bio['num_infections'] = 0\n",
    "patient_bio.infection = patient_bio.infection.astype(object)\n",
    "    \n",
    "patient_bio = patient_bio.set_index('hadm_id')"
   ]
  },
  {
   "cell_type": "code",
   "execution_count": 379,
   "metadata": {},
   "outputs": [],
   "source": [
    "infection_types = set()\n",
    "\n",
    "# Obtain each unique infection and throw into a set for multilabelbinerizer\n",
    "for hadm_id, group in bio_events:\n",
    "    admittance_time = patient_info.loc[patient_info.hadm_id==hadm_id]['admittime'].values[0]\n",
    "    day_results = group[((group.charttime - admittance_time) < one_day)]\n",
    "    infections = tuple(day_results.org_name.unique())\n",
    "    infection_types.update(infections)\n",
    "\n",
    "    patient_bio.set_value(hadm_id, 'infection', infections)\n",
    "    patient_bio.set_value(hadm_id, 'num_infections', len(infections))\n",
    "\n",
    "for row in patient_bio.loc[patient_bio.infection.isnull(), 'infection'].index:\n",
    "    patient_bio.at[row, 'infection'] = tuple()\n",
    "    "
   ]
  },
  {
   "cell_type": "code",
   "execution_count": 380,
   "metadata": {},
   "outputs": [],
   "source": [
    "from sklearn.preprocessing import MultiLabelBinarizer\n",
    "mlb = MultiLabelBinarizer()\n",
    "bio_matrix = mlb.fit_transform(patient_bio['infection'])\n",
    "\n",
    "feature_df = pd.DataFrame(data=bio_matrix, columns=mlb.classes_,  index=patient_bio.index)\n",
    "multi_bio = pd.concat([feature_df, patient_bio], axis=1)"
   ]
  },
  {
   "cell_type": "code",
   "execution_count": 381,
   "metadata": {},
   "outputs": [
    {
     "data": {
      "text/html": [
       "<div>\n",
       "<style scoped>\n",
       "    .dataframe tbody tr th:only-of-type {\n",
       "        vertical-align: middle;\n",
       "    }\n",
       "\n",
       "    .dataframe tbody tr th {\n",
       "        vertical-align: top;\n",
       "    }\n",
       "\n",
       "    .dataframe thead th {\n",
       "        text-align: right;\n",
       "    }\n",
       "</style>\n",
       "<table border=\"1\" class=\"dataframe\">\n",
       "  <thead>\n",
       "    <tr style=\"text-align: right;\">\n",
       "      <th></th>\n",
       "      <th>infection</th>\n",
       "      <th>num_infections</th>\n",
       "    </tr>\n",
       "    <tr>\n",
       "      <th>hadm_id</th>\n",
       "      <th></th>\n",
       "      <th></th>\n",
       "    </tr>\n",
       "  </thead>\n",
       "  <tbody>\n",
       "    <tr>\n",
       "      <th>111970</th>\n",
       "      <td>(ENTEROCOCCUS FAECIUM, CLOSTRIDIUM DIFFICILE)</td>\n",
       "      <td>2</td>\n",
       "    </tr>\n",
       "    <tr>\n",
       "      <th>148905</th>\n",
       "      <td>(GRAM NEGATIVE ROD(S), GRAM NEGATIVE ROD #1)</td>\n",
       "      <td>2</td>\n",
       "    </tr>\n",
       "    <tr>\n",
       "      <th>113900</th>\n",
       "      <td>(KLEBSIELLA PNEUMONIAE, ENTEROCOCCUS SP.)</td>\n",
       "      <td>2</td>\n",
       "    </tr>\n",
       "    <tr>\n",
       "      <th>171178</th>\n",
       "      <td>(ENTEROBACTER CLOACAE, GRAM NEGATIVE ROD #2, G...</td>\n",
       "      <td>5</td>\n",
       "    </tr>\n",
       "    <tr>\n",
       "      <th>107880</th>\n",
       "      <td>(ENTEROCOCCUS SP., YEAST, STAPH AUREUS COAG +)</td>\n",
       "      <td>3</td>\n",
       "    </tr>\n",
       "    <tr>\n",
       "      <th>108911</th>\n",
       "      <td>(ESCHERICHIA COLI, GRAM NEGATIVE ROD(S))</td>\n",
       "      <td>2</td>\n",
       "    </tr>\n",
       "    <tr>\n",
       "      <th>170452</th>\n",
       "      <td>(PREVOTELLA SPECIES, GRAM NEGATIVE ROD #2, STA...</td>\n",
       "      <td>6</td>\n",
       "    </tr>\n",
       "    <tr>\n",
       "      <th>103873</th>\n",
       "      <td>(PROTEUS MIRABILIS, PROVIDENCIA STUARTII)</td>\n",
       "      <td>2</td>\n",
       "    </tr>\n",
       "    <tr>\n",
       "      <th>163526</th>\n",
       "      <td>(ENTEROCOCCUS FAECALIS, STAPHYLOCOCCUS, COAGUL...</td>\n",
       "      <td>3</td>\n",
       "    </tr>\n",
       "    <tr>\n",
       "      <th>108250</th>\n",
       "      <td>(STAPH AUREUS COAG +, CLOSTRIDIUM DIFFICILE, Y...</td>\n",
       "      <td>3</td>\n",
       "    </tr>\n",
       "    <tr>\n",
       "      <th>146215</th>\n",
       "      <td>(STAPH AUREUS COAG +, YEAST, 2ND ISOLATE)</td>\n",
       "      <td>3</td>\n",
       "    </tr>\n",
       "    <tr>\n",
       "      <th>189051</th>\n",
       "      <td>(PROBABLE ENTEROCOCCUS, GRAM NEGATIVE ROD(S), ...</td>\n",
       "      <td>4</td>\n",
       "    </tr>\n",
       "    <tr>\n",
       "      <th>186230</th>\n",
       "      <td>(GRAM POSITIVE BACTERIA, ENTEROCOCCUS SP.)</td>\n",
       "      <td>2</td>\n",
       "    </tr>\n",
       "    <tr>\n",
       "      <th>103405</th>\n",
       "      <td>(STREPTOCOCCUS PNEUMONIAE, STAPHYLOCOCCUS, COA...</td>\n",
       "      <td>2</td>\n",
       "    </tr>\n",
       "    <tr>\n",
       "      <th>118182</th>\n",
       "      <td>(STAPH AUREUS COAG +, KLEBSIELLA PNEUMONIAE)</td>\n",
       "      <td>2</td>\n",
       "    </tr>\n",
       "    <tr>\n",
       "      <th>162070</th>\n",
       "      <td>(CLOSTRIDIUM DIFFICILE, STAPH AUREUS COAG +, P...</td>\n",
       "      <td>4</td>\n",
       "    </tr>\n",
       "    <tr>\n",
       "      <th>196785</th>\n",
       "      <td>(SERRATIA MARCESCENS, CLOSTRIDIUM DIFFICILE, E...</td>\n",
       "      <td>3</td>\n",
       "    </tr>\n",
       "    <tr>\n",
       "      <th>162623</th>\n",
       "      <td>(ENTEROCOCCUS SP., CORYNEBACTERIUM SPECIES (DI...</td>\n",
       "      <td>2</td>\n",
       "    </tr>\n",
       "    <tr>\n",
       "      <th>161583</th>\n",
       "      <td>(STAPH AUREUS COAG +, YEAST, GRAM NEGATIVE ROD...</td>\n",
       "      <td>3</td>\n",
       "    </tr>\n",
       "    <tr>\n",
       "      <th>113611</th>\n",
       "      <td>(PROTEUS MIRABILIS, ESCHERICHIA COLI)</td>\n",
       "      <td>2</td>\n",
       "    </tr>\n",
       "    <tr>\n",
       "      <th>105931</th>\n",
       "      <td>(STAPHYLOCOCCUS, COAGULASE NEGATIVE, GRAM POSI...</td>\n",
       "      <td>2</td>\n",
       "    </tr>\n",
       "    <tr>\n",
       "      <th>147531</th>\n",
       "      <td>(STAPHYLOCOCCUS, COAGULASE NEGATIVE, ENTEROBAC...</td>\n",
       "      <td>3</td>\n",
       "    </tr>\n",
       "    <tr>\n",
       "      <th>122289</th>\n",
       "      <td>(PROTEUS MIRABILIS, CORYNEBACTERIUM SPECIES (D...</td>\n",
       "      <td>7</td>\n",
       "    </tr>\n",
       "    <tr>\n",
       "      <th>112218</th>\n",
       "      <td>(STAPHYLOCOCCUS, COAGULASE NEGATIVE, PSEUDOMON...</td>\n",
       "      <td>7</td>\n",
       "    </tr>\n",
       "    <tr>\n",
       "      <th>162324</th>\n",
       "      <td>(STAPH AUREUS COAG +, GRAM POSITIVE COCCUS(COC...</td>\n",
       "      <td>2</td>\n",
       "    </tr>\n",
       "    <tr>\n",
       "      <th>184459</th>\n",
       "      <td>(PROTEUS MIRABILIS, GRAM NEGATIVE ROD #1, STAP...</td>\n",
       "      <td>4</td>\n",
       "    </tr>\n",
       "    <tr>\n",
       "      <th>173681</th>\n",
       "      <td>(ESCHERICHIA COLI, CORYNEBACTERIUM SPECIES (DI...</td>\n",
       "      <td>2</td>\n",
       "    </tr>\n",
       "    <tr>\n",
       "      <th>109062</th>\n",
       "      <td>(KLEBSIELLA PNEUMONIAE, ENTEROCOCCUS FAECALIS)</td>\n",
       "      <td>2</td>\n",
       "    </tr>\n",
       "    <tr>\n",
       "      <th>127285</th>\n",
       "      <td>(ESCHERICHIA COLI, ENTEROCOCCUS FAECIUM, ENTER...</td>\n",
       "      <td>5</td>\n",
       "    </tr>\n",
       "    <tr>\n",
       "      <th>194992</th>\n",
       "      <td>(PRESUMPTIVE PROPIONIBACTERIUM ACNES, ENTEROCO...</td>\n",
       "      <td>3</td>\n",
       "    </tr>\n",
       "    <tr>\n",
       "      <th>...</th>\n",
       "      <td>...</td>\n",
       "      <td>...</td>\n",
       "    </tr>\n",
       "    <tr>\n",
       "      <th>159603</th>\n",
       "      <td>(STAPH AUREUS COAG +, PROBABLE ENTEROCOCCUS, Y...</td>\n",
       "      <td>4</td>\n",
       "    </tr>\n",
       "    <tr>\n",
       "      <th>110178</th>\n",
       "      <td>(MORGANELLA MORGANII, ENTEROCOCCUS SP.)</td>\n",
       "      <td>2</td>\n",
       "    </tr>\n",
       "    <tr>\n",
       "      <th>166642</th>\n",
       "      <td>(STAPH AUREUS COAG +, POSITIVE FOR METHICILLIN...</td>\n",
       "      <td>2</td>\n",
       "    </tr>\n",
       "    <tr>\n",
       "      <th>198499</th>\n",
       "      <td>(PROTEUS MIRABILIS, POSITIVE FOR METHICILLIN R...</td>\n",
       "      <td>3</td>\n",
       "    </tr>\n",
       "    <tr>\n",
       "      <th>186645</th>\n",
       "      <td>(PROBABLE ENTEROCOCCUS, PSEUDOMONAS AERUGINOSA...</td>\n",
       "      <td>4</td>\n",
       "    </tr>\n",
       "    <tr>\n",
       "      <th>187268</th>\n",
       "      <td>(PSEUDOMONAS AERUGINOSA, CLOSTRIDIUM DIFFICILE)</td>\n",
       "      <td>2</td>\n",
       "    </tr>\n",
       "    <tr>\n",
       "      <th>122472</th>\n",
       "      <td>(GRAM POSITIVE RODS, STAPH AUREUS COAG +, BETA...</td>\n",
       "      <td>3</td>\n",
       "    </tr>\n",
       "    <tr>\n",
       "      <th>184716</th>\n",
       "      <td>(STAPH AUREUS COAG +, ENTEROCOCCUS SP., POSITI...</td>\n",
       "      <td>4</td>\n",
       "    </tr>\n",
       "    <tr>\n",
       "      <th>193818</th>\n",
       "      <td>(ESCHERICHIA COLI, CLOSTRIDIUM DIFFICILE)</td>\n",
       "      <td>2</td>\n",
       "    </tr>\n",
       "    <tr>\n",
       "      <th>188820</th>\n",
       "      <td>(ANAEROBIC GRAM POSITIVE COCCUS(I), BACTEROIDE...</td>\n",
       "      <td>2</td>\n",
       "    </tr>\n",
       "    <tr>\n",
       "      <th>119047</th>\n",
       "      <td>(ESCHERICHIA COLI, BACTEROIDES FRAGILIS GROUP,...</td>\n",
       "      <td>3</td>\n",
       "    </tr>\n",
       "    <tr>\n",
       "      <th>113817</th>\n",
       "      <td>(STAPH AUREUS COAG +, STREPTOCOCCUS PNEUMONIAE)</td>\n",
       "      <td>2</td>\n",
       "    </tr>\n",
       "    <tr>\n",
       "      <th>135644</th>\n",
       "      <td>(POSITIVE FOR METHICILLIN RESISTANT STAPH AURE...</td>\n",
       "      <td>2</td>\n",
       "    </tr>\n",
       "    <tr>\n",
       "      <th>174921</th>\n",
       "      <td>(STAPH AUREUS COAG +, PSEUDOMONAS AERUGINOSA, ...</td>\n",
       "      <td>3</td>\n",
       "    </tr>\n",
       "    <tr>\n",
       "      <th>155290</th>\n",
       "      <td>(YEAST, VIRUS)</td>\n",
       "      <td>2</td>\n",
       "    </tr>\n",
       "    <tr>\n",
       "      <th>132856</th>\n",
       "      <td>(ESCHERICHIA COLI, CANDIDA TROPICALIS, PSEUDOM...</td>\n",
       "      <td>5</td>\n",
       "    </tr>\n",
       "    <tr>\n",
       "      <th>194370</th>\n",
       "      <td>(PROTEUS MIRABILIS, ESCHERICHIA COLI)</td>\n",
       "      <td>2</td>\n",
       "    </tr>\n",
       "    <tr>\n",
       "      <th>123804</th>\n",
       "      <td>(ENTEROCOCCUS SP., GRAM NEGATIVE ROD(S))</td>\n",
       "      <td>2</td>\n",
       "    </tr>\n",
       "    <tr>\n",
       "      <th>148017</th>\n",
       "      <td>(ASPERGILLUS FUMIGATUS, KLEBSIELLA PNEUMONIAE)</td>\n",
       "      <td>2</td>\n",
       "    </tr>\n",
       "    <tr>\n",
       "      <th>194695</th>\n",
       "      <td>(KLEBSIELLA PNEUMONIAE, PROBABLE MICROCOCCUS S...</td>\n",
       "      <td>2</td>\n",
       "    </tr>\n",
       "    <tr>\n",
       "      <th>114712</th>\n",
       "      <td>(PSEUDOMONAS AERUGINOSA, YEAST)</td>\n",
       "      <td>2</td>\n",
       "    </tr>\n",
       "    <tr>\n",
       "      <th>185895</th>\n",
       "      <td>(BETA STREPTOCOCCUS GROUP B, CORYNEBACTERIUM S...</td>\n",
       "      <td>2</td>\n",
       "    </tr>\n",
       "    <tr>\n",
       "      <th>165472</th>\n",
       "      <td>(POSITIVE FOR METHICILLIN RESISTANT STAPH AURE...</td>\n",
       "      <td>2</td>\n",
       "    </tr>\n",
       "    <tr>\n",
       "      <th>129975</th>\n",
       "      <td>(STAPHYLOCOCCUS, COAGULASE NEGATIVE, ESCHERICH...</td>\n",
       "      <td>2</td>\n",
       "    </tr>\n",
       "    <tr>\n",
       "      <th>184200</th>\n",
       "      <td>(POSITIVE FOR METHICILLIN RESISTANT STAPH AURE...</td>\n",
       "      <td>2</td>\n",
       "    </tr>\n",
       "    <tr>\n",
       "      <th>194204</th>\n",
       "      <td>(STAPH AUREUS COAG +, POSITIVE FOR METHICILLIN...</td>\n",
       "      <td>2</td>\n",
       "    </tr>\n",
       "    <tr>\n",
       "      <th>166418</th>\n",
       "      <td>(ANAEROBIC GRAM POSITIVE ROD(S), LACTOBACILLUS...</td>\n",
       "      <td>2</td>\n",
       "    </tr>\n",
       "    <tr>\n",
       "      <th>125153</th>\n",
       "      <td>(KLEBSIELLA PNEUMONIAE, POSITIVE FOR METHICILL...</td>\n",
       "      <td>2</td>\n",
       "    </tr>\n",
       "    <tr>\n",
       "      <th>170494</th>\n",
       "      <td>(STAPH AUREUS COAG +, CORYNEBACTERIUM SPECIES ...</td>\n",
       "      <td>2</td>\n",
       "    </tr>\n",
       "    <tr>\n",
       "      <th>168044</th>\n",
       "      <td>(LACTOBACILLUS SPECIES, CANDIDA (TORULOPSIS) G...</td>\n",
       "      <td>3</td>\n",
       "    </tr>\n",
       "  </tbody>\n",
       "</table>\n",
       "<p>323 rows × 2 columns</p>\n",
       "</div>"
      ],
      "text/plain": [
       "                                                 infection  num_infections\n",
       "hadm_id                                                                   \n",
       "111970       (ENTEROCOCCUS FAECIUM, CLOSTRIDIUM DIFFICILE)               2\n",
       "148905        (GRAM NEGATIVE ROD(S), GRAM NEGATIVE ROD #1)               2\n",
       "113900           (KLEBSIELLA PNEUMONIAE, ENTEROCOCCUS SP.)               2\n",
       "171178   (ENTEROBACTER CLOACAE, GRAM NEGATIVE ROD #2, G...               5\n",
       "107880      (ENTEROCOCCUS SP., YEAST, STAPH AUREUS COAG +)               3\n",
       "108911            (ESCHERICHIA COLI, GRAM NEGATIVE ROD(S))               2\n",
       "170452   (PREVOTELLA SPECIES, GRAM NEGATIVE ROD #2, STA...               6\n",
       "103873           (PROTEUS MIRABILIS, PROVIDENCIA STUARTII)               2\n",
       "163526   (ENTEROCOCCUS FAECALIS, STAPHYLOCOCCUS, COAGUL...               3\n",
       "108250   (STAPH AUREUS COAG +, CLOSTRIDIUM DIFFICILE, Y...               3\n",
       "146215           (STAPH AUREUS COAG +, YEAST, 2ND ISOLATE)               3\n",
       "189051   (PROBABLE ENTEROCOCCUS, GRAM NEGATIVE ROD(S), ...               4\n",
       "186230          (GRAM POSITIVE BACTERIA, ENTEROCOCCUS SP.)               2\n",
       "103405   (STREPTOCOCCUS PNEUMONIAE, STAPHYLOCOCCUS, COA...               2\n",
       "118182        (STAPH AUREUS COAG +, KLEBSIELLA PNEUMONIAE)               2\n",
       "162070   (CLOSTRIDIUM DIFFICILE, STAPH AUREUS COAG +, P...               4\n",
       "196785   (SERRATIA MARCESCENS, CLOSTRIDIUM DIFFICILE, E...               3\n",
       "162623   (ENTEROCOCCUS SP., CORYNEBACTERIUM SPECIES (DI...               2\n",
       "161583   (STAPH AUREUS COAG +, YEAST, GRAM NEGATIVE ROD...               3\n",
       "113611               (PROTEUS MIRABILIS, ESCHERICHIA COLI)               2\n",
       "105931   (STAPHYLOCOCCUS, COAGULASE NEGATIVE, GRAM POSI...               2\n",
       "147531   (STAPHYLOCOCCUS, COAGULASE NEGATIVE, ENTEROBAC...               3\n",
       "122289   (PROTEUS MIRABILIS, CORYNEBACTERIUM SPECIES (D...               7\n",
       "112218   (STAPHYLOCOCCUS, COAGULASE NEGATIVE, PSEUDOMON...               7\n",
       "162324   (STAPH AUREUS COAG +, GRAM POSITIVE COCCUS(COC...               2\n",
       "184459   (PROTEUS MIRABILIS, GRAM NEGATIVE ROD #1, STAP...               4\n",
       "173681   (ESCHERICHIA COLI, CORYNEBACTERIUM SPECIES (DI...               2\n",
       "109062      (KLEBSIELLA PNEUMONIAE, ENTEROCOCCUS FAECALIS)               2\n",
       "127285   (ESCHERICHIA COLI, ENTEROCOCCUS FAECIUM, ENTER...               5\n",
       "194992   (PRESUMPTIVE PROPIONIBACTERIUM ACNES, ENTEROCO...               3\n",
       "...                                                    ...             ...\n",
       "159603   (STAPH AUREUS COAG +, PROBABLE ENTEROCOCCUS, Y...               4\n",
       "110178             (MORGANELLA MORGANII, ENTEROCOCCUS SP.)               2\n",
       "166642   (STAPH AUREUS COAG +, POSITIVE FOR METHICILLIN...               2\n",
       "198499   (PROTEUS MIRABILIS, POSITIVE FOR METHICILLIN R...               3\n",
       "186645   (PROBABLE ENTEROCOCCUS, PSEUDOMONAS AERUGINOSA...               4\n",
       "187268     (PSEUDOMONAS AERUGINOSA, CLOSTRIDIUM DIFFICILE)               2\n",
       "122472   (GRAM POSITIVE RODS, STAPH AUREUS COAG +, BETA...               3\n",
       "184716   (STAPH AUREUS COAG +, ENTEROCOCCUS SP., POSITI...               4\n",
       "193818           (ESCHERICHIA COLI, CLOSTRIDIUM DIFFICILE)               2\n",
       "188820   (ANAEROBIC GRAM POSITIVE COCCUS(I), BACTEROIDE...               2\n",
       "119047   (ESCHERICHIA COLI, BACTEROIDES FRAGILIS GROUP,...               3\n",
       "113817     (STAPH AUREUS COAG +, STREPTOCOCCUS PNEUMONIAE)               2\n",
       "135644   (POSITIVE FOR METHICILLIN RESISTANT STAPH AURE...               2\n",
       "174921   (STAPH AUREUS COAG +, PSEUDOMONAS AERUGINOSA, ...               3\n",
       "155290                                      (YEAST, VIRUS)               2\n",
       "132856   (ESCHERICHIA COLI, CANDIDA TROPICALIS, PSEUDOM...               5\n",
       "194370               (PROTEUS MIRABILIS, ESCHERICHIA COLI)               2\n",
       "123804            (ENTEROCOCCUS SP., GRAM NEGATIVE ROD(S))               2\n",
       "148017      (ASPERGILLUS FUMIGATUS, KLEBSIELLA PNEUMONIAE)               2\n",
       "194695   (KLEBSIELLA PNEUMONIAE, PROBABLE MICROCOCCUS S...               2\n",
       "114712                     (PSEUDOMONAS AERUGINOSA, YEAST)               2\n",
       "185895   (BETA STREPTOCOCCUS GROUP B, CORYNEBACTERIUM S...               2\n",
       "165472   (POSITIVE FOR METHICILLIN RESISTANT STAPH AURE...               2\n",
       "129975   (STAPHYLOCOCCUS, COAGULASE NEGATIVE, ESCHERICH...               2\n",
       "184200   (POSITIVE FOR METHICILLIN RESISTANT STAPH AURE...               2\n",
       "194204   (STAPH AUREUS COAG +, POSITIVE FOR METHICILLIN...               2\n",
       "166418   (ANAEROBIC GRAM POSITIVE ROD(S), LACTOBACILLUS...               2\n",
       "125153   (KLEBSIELLA PNEUMONIAE, POSITIVE FOR METHICILL...               2\n",
       "170494   (STAPH AUREUS COAG +, CORYNEBACTERIUM SPECIES ...               2\n",
       "168044   (LACTOBACILLUS SPECIES, CANDIDA (TORULOPSIS) G...               3\n",
       "\n",
       "[323 rows x 2 columns]"
      ]
     },
     "execution_count": 381,
     "metadata": {},
     "output_type": "execute_result"
    }
   ],
   "source": [
    "patient_bio.loc[patient_bio.num_infections > 1]"
   ]
  },
  {
   "cell_type": "code",
   "execution_count": 382,
   "metadata": {},
   "outputs": [],
   "source": [
    "multi_bio = multi_bio.drop('infection', 1)"
   ]
  },
  {
   "cell_type": "code",
   "execution_count": 383,
   "metadata": {},
   "outputs": [],
   "source": [
    "# New patient info dataframe finally with vitals\n",
    "multi_bio = vital_patient_info.join(multi_bio, on='hadm_id')\n",
    "\n",
    "pos = multi_bio[multi_bio['death_period'] == 0]\n",
    "neg = multi_bio[multi_bio['death_period'] == 1]"
   ]
  },
  {
   "cell_type": "code",
   "execution_count": 384,
   "metadata": {},
   "outputs": [
    {
     "data": {
      "text/html": [
       "<div>\n",
       "<style scoped>\n",
       "    .dataframe tbody tr th:only-of-type {\n",
       "        vertical-align: middle;\n",
       "    }\n",
       "\n",
       "    .dataframe tbody tr th {\n",
       "        vertical-align: top;\n",
       "    }\n",
       "\n",
       "    .dataframe thead th {\n",
       "        text-align: right;\n",
       "    }\n",
       "</style>\n",
       "<table border=\"1\" class=\"dataframe\">\n",
       "  <thead>\n",
       "    <tr style=\"text-align: right;\">\n",
       "      <th></th>\n",
       "      <th>subject_id</th>\n",
       "      <th>hadm_id</th>\n",
       "      <th>admittime</th>\n",
       "      <th>admission_type</th>\n",
       "      <th>insurance</th>\n",
       "      <th>ethnicity</th>\n",
       "      <th>death_period</th>\n",
       "      <th>gender</th>\n",
       "      <th>dob</th>\n",
       "      <th>age</th>\n",
       "      <th>...</th>\n",
       "      <th>STREPTOCOCCUS MILLERI GROUP</th>\n",
       "      <th>STREPTOCOCCUS PNEUMONIAE</th>\n",
       "      <th>STRONGYLOIDES STERCORALIS</th>\n",
       "      <th>VARICELLA-ZOSTER VIRUS</th>\n",
       "      <th>VIBRIO SPECIES</th>\n",
       "      <th>VIRIDANS STREPTOCOCCI</th>\n",
       "      <th>VIRUS</th>\n",
       "      <th>YEAST</th>\n",
       "      <th>YEAST, PRESUMPTIVELY NOT C. ALBICANS</th>\n",
       "      <th>num_infections</th>\n",
       "    </tr>\n",
       "  </thead>\n",
       "  <tbody>\n",
       "    <tr>\n",
       "      <th>0</th>\n",
       "      <td>357</td>\n",
       "      <td>122609</td>\n",
       "      <td>2198-11-01 22:36:00</td>\n",
       "      <td>EMERGENCY</td>\n",
       "      <td>Private</td>\n",
       "      <td>WHITE</td>\n",
       "      <td>1</td>\n",
       "      <td>M</td>\n",
       "      <td>2135-03-22</td>\n",
       "      <td>-0.184017</td>\n",
       "      <td>...</td>\n",
       "      <td>0</td>\n",
       "      <td>0</td>\n",
       "      <td>0</td>\n",
       "      <td>0</td>\n",
       "      <td>0</td>\n",
       "      <td>0</td>\n",
       "      <td>0</td>\n",
       "      <td>0</td>\n",
       "      <td>0</td>\n",
       "      <td>0</td>\n",
       "    </tr>\n",
       "    <tr>\n",
       "      <th>1</th>\n",
       "      <td>366</td>\n",
       "      <td>134462</td>\n",
       "      <td>2164-11-18 20:27:00</td>\n",
       "      <td>EMERGENCY</td>\n",
       "      <td>Medicare</td>\n",
       "      <td>HISPANIC OR LATINO</td>\n",
       "      <td>1</td>\n",
       "      <td>M</td>\n",
       "      <td>2112-05-22</td>\n",
       "      <td>-0.851791</td>\n",
       "      <td>...</td>\n",
       "      <td>0</td>\n",
       "      <td>0</td>\n",
       "      <td>0</td>\n",
       "      <td>0</td>\n",
       "      <td>0</td>\n",
       "      <td>0</td>\n",
       "      <td>0</td>\n",
       "      <td>0</td>\n",
       "      <td>0</td>\n",
       "      <td>0</td>\n",
       "    </tr>\n",
       "    <tr>\n",
       "      <th>2</th>\n",
       "      <td>94</td>\n",
       "      <td>183686</td>\n",
       "      <td>2176-02-25 16:49:00</td>\n",
       "      <td>EMERGENCY</td>\n",
       "      <td>Medicare</td>\n",
       "      <td>ASIAN</td>\n",
       "      <td>1</td>\n",
       "      <td>M</td>\n",
       "      <td>2101-09-20</td>\n",
       "      <td>0.423050</td>\n",
       "      <td>...</td>\n",
       "      <td>0</td>\n",
       "      <td>0</td>\n",
       "      <td>0</td>\n",
       "      <td>0</td>\n",
       "      <td>0</td>\n",
       "      <td>0</td>\n",
       "      <td>0</td>\n",
       "      <td>0</td>\n",
       "      <td>0</td>\n",
       "      <td>0</td>\n",
       "    </tr>\n",
       "    <tr>\n",
       "      <th>3</th>\n",
       "      <td>21</td>\n",
       "      <td>111970</td>\n",
       "      <td>2135-01-30 20:50:00</td>\n",
       "      <td>EMERGENCY</td>\n",
       "      <td>Medicare</td>\n",
       "      <td>WHITE</td>\n",
       "      <td>1</td>\n",
       "      <td>M</td>\n",
       "      <td>2047-04-04</td>\n",
       "      <td>1.272944</td>\n",
       "      <td>...</td>\n",
       "      <td>0</td>\n",
       "      <td>0</td>\n",
       "      <td>0</td>\n",
       "      <td>0</td>\n",
       "      <td>0</td>\n",
       "      <td>0</td>\n",
       "      <td>0</td>\n",
       "      <td>0</td>\n",
       "      <td>0</td>\n",
       "      <td>2</td>\n",
       "    </tr>\n",
       "    <tr>\n",
       "      <th>4</th>\n",
       "      <td>353</td>\n",
       "      <td>108923</td>\n",
       "      <td>2151-03-28 16:01:00</td>\n",
       "      <td>EMERGENCY</td>\n",
       "      <td>Medicare</td>\n",
       "      <td>WHITE</td>\n",
       "      <td>1</td>\n",
       "      <td>M</td>\n",
       "      <td>2089-07-23</td>\n",
       "      <td>-0.305431</td>\n",
       "      <td>...</td>\n",
       "      <td>0</td>\n",
       "      <td>0</td>\n",
       "      <td>0</td>\n",
       "      <td>0</td>\n",
       "      <td>0</td>\n",
       "      <td>0</td>\n",
       "      <td>0</td>\n",
       "      <td>0</td>\n",
       "      <td>0</td>\n",
       "      <td>1</td>\n",
       "    </tr>\n",
       "  </tbody>\n",
       "</table>\n",
       "<p>5 rows × 132 columns</p>\n",
       "</div>"
      ],
      "text/plain": [
       "   subject_id  hadm_id           admittime admission_type insurance  \\\n",
       "0         357   122609 2198-11-01 22:36:00      EMERGENCY   Private   \n",
       "1         366   134462 2164-11-18 20:27:00      EMERGENCY  Medicare   \n",
       "2          94   183686 2176-02-25 16:49:00      EMERGENCY  Medicare   \n",
       "3          21   111970 2135-01-30 20:50:00      EMERGENCY  Medicare   \n",
       "4         353   108923 2151-03-28 16:01:00      EMERGENCY  Medicare   \n",
       "\n",
       "            ethnicity  death_period gender        dob       age  ...  \\\n",
       "0               WHITE             1      M 2135-03-22 -0.184017  ...   \n",
       "1  HISPANIC OR LATINO             1      M 2112-05-22 -0.851791  ...   \n",
       "2               ASIAN             1      M 2101-09-20  0.423050  ...   \n",
       "3               WHITE             1      M 2047-04-04  1.272944  ...   \n",
       "4               WHITE             1      M 2089-07-23 -0.305431  ...   \n",
       "\n",
       "   STREPTOCOCCUS MILLERI GROUP  STREPTOCOCCUS PNEUMONIAE  \\\n",
       "0                            0                         0   \n",
       "1                            0                         0   \n",
       "2                            0                         0   \n",
       "3                            0                         0   \n",
       "4                            0                         0   \n",
       "\n",
       "   STRONGYLOIDES STERCORALIS   VARICELLA-ZOSTER VIRUS  VIBRIO SPECIES  \\\n",
       "0                           0                       0               0   \n",
       "1                           0                       0               0   \n",
       "2                           0                       0               0   \n",
       "3                           0                       0               0   \n",
       "4                           0                       0               0   \n",
       "\n",
       "   VIRIDANS STREPTOCOCCI  VIRUS  YEAST  YEAST, PRESUMPTIVELY NOT C. ALBICANS  \\\n",
       "0                      0      0      0                                     0   \n",
       "1                      0      0      0                                     0   \n",
       "2                      0      0      0                                     0   \n",
       "3                      0      0      0                                     0   \n",
       "4                      0      0      0                                     0   \n",
       "\n",
       "   num_infections  \n",
       "0               0  \n",
       "1               0  \n",
       "2               0  \n",
       "3               2  \n",
       "4               1  \n",
       "\n",
       "[5 rows x 132 columns]"
      ]
     },
     "execution_count": 384,
     "metadata": {},
     "output_type": "execute_result"
    }
   ],
   "source": [
    "multi_bio.head()"
   ]
  },
  {
   "cell_type": "markdown",
   "metadata": {},
   "source": [
    "Now that we have successfully appended infection type in a \"multi-hot\" encoded format, we can look into several useful features. First let us see how the number of arbitrary infections correlates with the mortality rate of individuals with sepsis."
   ]
  },
  {
   "cell_type": "code",
   "execution_count": 389,
   "metadata": {},
   "outputs": [
    {
     "data": {
      "text/plain": [
       "Text(0.5, 1.0, 'Infection Rate and Mortality')"
      ]
     },
     "execution_count": 389,
     "metadata": {},
     "output_type": "execute_result"
    },
    {
     "data": {
      "image/png": "[encoded data removed]",
      "text/plain": [
       "<Figure size 432x288 with 1 Axes>"
      ]
     },
     "metadata": {
      "needs_background": "light"
     },
     "output_type": "display_data"
    }
   ],
   "source": [
    "ax = plt.axes()\n",
    "sns.countplot(x=\"num_infections\", hue=\"death_period\", data=multi_bio, ax=ax)\n",
    "ax.set_title('Infection Rate and Mortality')"
   ]
  },
  {
   "cell_type": "code",
   "execution_count": 386,
   "metadata": {},
   "outputs": [
    {
     "data": {
      "text/plain": [
       "<matplotlib.axes._subplots.AxesSubplot at 0x7f1c3c802400>"
      ]
     },
     "execution_count": 386,
     "metadata": {},
     "output_type": "execute_result"
    },
    {
     "data": {
      "image/png": "[encoded data removed]",
      "text/plain": [
       "<Figure size 432x288 with 1 Axes>"
      ]
     },
     "metadata": {
      "needs_background": "light"
     },
     "output_type": "display_data"
    }
   ],
   "source": [
    "correlation_df = multi_bio.corr().copy()\n",
    "plt.rcParams.update({'font.size': 2})\n",
    "tst = correlation_df['death_period']\n",
    "tst = tst[mlb.classes_]\n",
    "tst.sort_values(inplace=True)\n",
    "tst_condensed = tst[:15]\n",
    "tst_condensed = tst_condensed.append( tst[-15:])\n",
    "tst_condensed.plot(kind='bar', alpha=0.6)"
   ]
  },
  {
   "cell_type": "markdown",
   "metadata": {},
   "source": [
    "As can be seen here, the number and type of infections are not strongly correlated with the survivability of sepsis. This could be due to a number of reasons. Due to the lack of usefulness in predicting survivability of a septic condition, it is worth considering removing them altogether or reducing the dimensionality of the data to aid in the machine learning phase."
   ]
  },
  {
   "cell_type": "markdown",
   "metadata": {},
   "source": [
    "## Feature Selection\n",
    "Considering the previous sections including visualizations into the correlation between certain vitals and survivability as well as bio lab test results and suvivability, it is time to trim features that are of little use in predicting survivability. "
   ]
  },
  {
   "cell_type": "markdown",
   "metadata": {},
   "source": [
    "### Test With All Features\n",
    "Let us see how well Adaptive boosting does with a decision stump base estimator and compare the result when we trim all bio information out."
   ]
  },
  {
   "cell_type": "code",
   "execution_count": 387,
   "metadata": {},
   "outputs": [],
   "source": [
    "y_all = multi_bio['death_period']\n",
    "X_all = multi_bio.drop(['death_period', 'subject_id', 'hadm_id', 'admittime', 'ethnicity', 'dob'], 1)\n",
    "X_all = pd.get_dummies(X_all)"
   ]
  },
  {
   "cell_type": "code",
   "execution_count": 409,
   "metadata": {},
   "outputs": [],
   "source": [
    "# X_all_new=np.array(X_all['num_infections']).reshape(1,-1)\n",
    "# X_all_new = stdsc.fit_transform(X_all_new)\n",
    "#X_all['num_infections'] = stdsc.fit_transform(np.array(X_all['num_infections']).reshape(1,-1))\n",
    "X_all['num_infections'] = stdsc.fit_transform(np.array(X_all['num_infections']).reshape(-1,1)).reshape(1,-1)[0]"
   ]
  },
  {
   "cell_type": "code",
   "execution_count": 411,
   "metadata": {},
   "outputs": [
    {
     "data": {
      "text/plain": [
       "RandomizedSearchCV(cv='warn', error_score='raise-deprecating',\n",
       "                   estimator=AdaBoostClassifier(algorithm='SAMME.R',\n",
       "                                                base_estimator=DecisionTreeClassifier(class_weight=None,\n",
       "                                                                                      criterion='gini',\n",
       "                                                                                      max_depth=1,\n",
       "                                                                                      max_features=None,\n",
       "                                                                                      max_leaf_nodes=None,\n",
       "                                                                                      min_impurity_decrease=0.0,\n",
       "                                                                                      min_impurity_split=None,\n",
       "                                                                                      min_samples_leaf=1,\n",
       "                                                                                      min_samples_split=2,\n",
       "                                                                                      min_weight_fraction_leaf=0.0...\n",
       "       0.27052632, 0.32263158, 0.37473684, 0.42684211, 0.47894737,\n",
       "       0.53105263, 0.58315789, 0.63526316, 0.68736842, 0.73947368,\n",
       "       0.79157895, 0.84368421, 0.89578947, 0.94789474, 1.        ]),\n",
       "                                        'n_estimators': [1, 2, 3, 4, 5, 6, 7, 8,\n",
       "                                                         9, 10, 11, 12, 13, 14,\n",
       "                                                         15, 16, 17, 18, 19, 20,\n",
       "                                                         21, 22, 23, 24, 25, 26,\n",
       "                                                         27, 28, 29, 30, ...]},\n",
       "                   pre_dispatch='2*n_jobs', random_state=42, refit=True,\n",
       "                   return_train_score=False, scoring='accuracy', verbose=0)"
      ]
     },
     "execution_count": 411,
     "metadata": {},
     "output_type": "execute_result"
    }
   ],
   "source": [
    "from sklearn.ensemble import AdaBoostClassifier\n",
    "from sklearn.tree import DecisionTreeClassifier\n",
    "from sklearn.model_selection import RandomizedSearchCV\n",
    "#from sklearn.grid_search import RandomizedSearchCV\n",
    "\n",
    "stump_clf =  DecisionTreeClassifier(random_state=42, max_depth=1)\n",
    "\n",
    "param_grid = {\n",
    "              \"base_estimator__max_features\": ['auto', 'sqrt', 'log2'],\n",
    "              \"n_estimators\": list(range(1,500)),\n",
    "              \"learning_rate\": np.linspace(0.01, 1, num=20),\n",
    "             }\n",
    "\n",
    "ada_clf = AdaBoostClassifier(base_estimator = stump_clf)\n",
    "\n",
    "rand_ada = RandomizedSearchCV(ada_clf, param_grid, scoring = 'accuracy', n_iter=100, random_state=42)\n",
    "#y_all=np.array(y_all).reshape(1,-1)\n",
    "rand_ada.fit(X_all,y_all)"
   ]
  },
  {
   "cell_type": "code",
   "execution_count": 412,
   "metadata": {},
   "outputs": [
    {
     "name": "stdout",
     "output_type": "stream",
     "text": [
      "0.987331081081081\n",
      "{'n_estimators': 278, 'learning_rate': 0.6352631578947369, 'base_estimator__max_features': 'auto'}\n",
      "AdaBoostClassifier(algorithm='SAMME.R',\n",
      "                   base_estimator=DecisionTreeClassifier(class_weight=None,\n",
      "                                                         criterion='gini',\n",
      "                                                         max_depth=1,\n",
      "                                                         max_features='auto',\n",
      "                                                         max_leaf_nodes=None,\n",
      "                                                         min_impurity_decrease=0.0,\n",
      "                                                         min_impurity_split=None,\n",
      "                                                         min_samples_leaf=1,\n",
      "                                                         min_samples_split=2,\n",
      "                                                         min_weight_fraction_leaf=0.0,\n",
      "                                                         presort=False,\n",
      "                                                         random_state=42,\n",
      "                                                         splitter='best'),\n",
      "                   learning_rate=0.6352631578947369, n_estimators=278,\n",
      "                   random_state=None)\n"
     ]
    }
   ],
   "source": [
    "print(rand_ada.best_score_)\n",
    "print(rand_ada.best_params_)\n",
    "print(rand_ada.best_estimator_)"
   ]
  },
  {
   "cell_type": "markdown",
   "metadata": {},
   "source": [
    "While a prediction accuracy of .812 is not bad for an initial pass, let us check the result when we trim all of this information out."
   ]
  },
  {
   "cell_type": "code",
   "execution_count": 413,
   "metadata": {},
   "outputs": [],
   "source": [
    "y_vitals = vital_patient_info['death_period']\n",
    "X_vitals = vital_patient_info.drop(['death_period', 'subject_id', 'hadm_id', 'admittime', 'ethnicity', 'dob'], 1)\n",
    "X_vitals = pd.get_dummies(X_vitals)"
   ]
  },
  {
   "cell_type": "code",
   "execution_count": 414,
   "metadata": {},
   "outputs": [
    {
     "data": {
      "text/plain": [
       "RandomizedSearchCV(cv='warn', error_score='raise-deprecating',\n",
       "                   estimator=AdaBoostClassifier(algorithm='SAMME.R',\n",
       "                                                base_estimator=DecisionTreeClassifier(class_weight=None,\n",
       "                                                                                      criterion='gini',\n",
       "                                                                                      max_depth=1,\n",
       "                                                                                      max_features=None,\n",
       "                                                                                      max_leaf_nodes=None,\n",
       "                                                                                      min_impurity_decrease=0.0,\n",
       "                                                                                      min_impurity_split=None,\n",
       "                                                                                      min_samples_leaf=1,\n",
       "                                                                                      min_samples_split=2,\n",
       "                                                                                      min_weight_fraction_leaf=0.0...\n",
       "       0.27052632, 0.32263158, 0.37473684, 0.42684211, 0.47894737,\n",
       "       0.53105263, 0.58315789, 0.63526316, 0.68736842, 0.73947368,\n",
       "       0.79157895, 0.84368421, 0.89578947, 0.94789474, 1.        ]),\n",
       "                                        'n_estimators': [1, 2, 3, 4, 5, 6, 7, 8,\n",
       "                                                         9, 10, 11, 12, 13, 14,\n",
       "                                                         15, 16, 17, 18, 19, 20,\n",
       "                                                         21, 22, 23, 24, 25, 26,\n",
       "                                                         27, 28, 29, 30, ...]},\n",
       "                   pre_dispatch='2*n_jobs', random_state=42, refit=True,\n",
       "                   return_train_score=False, scoring='accuracy', verbose=0)"
      ]
     },
     "execution_count": 414,
     "metadata": {},
     "output_type": "execute_result"
    }
   ],
   "source": [
    "rand_ada = RandomizedSearchCV(ada_clf, param_grid, scoring = 'accuracy', n_iter=100, random_state=42)\n",
    "rand_ada.fit(X_vitals,y_vitals)"
   ]
  },
  {
   "cell_type": "code",
   "execution_count": 58,
   "metadata": {},
   "outputs": [
    {
     "name": "stdout",
     "output_type": "stream",
     "text": [
      "0.834459459459\n",
      "{'n_estimators': 327, 'learning_rate': 0.06210526315789474, 'base_estimator__max_features': 'sqrt'}\n",
      "AdaBoostClassifier(algorithm='SAMME.R',\n",
      "          base_estimator=DecisionTreeClassifier(class_weight=None, criterion='gini', max_depth=1,\n",
      "            max_features='sqrt', max_leaf_nodes=None, min_samples_leaf=1,\n",
      "            min_samples_split=2, min_weight_fraction_leaf=0.0,\n",
      "            presort=False, random_state=42, splitter='best'),\n",
      "          learning_rate=0.06210526315789474, n_estimators=327,\n",
      "          random_state=None)\n"
     ]
    }
   ],
   "source": [
    "print(rand_ada.best_score_)\n",
    "print(rand_ada.best_params_)\n",
    "print(rand_ada.best_estimator_)"
   ]
  },
  {
   "cell_type": "markdown",
   "metadata": {
    "collapsed": true
   },
   "source": [
    "We increased predictive accuracy marginally. Infection type does not tend to indicate survivability so in order to reduce features, it will be likely be trimmed in the model building phase.\n",
    "\n",
    "### Assessing Feature Importance with Random Forests"
   ]
  },
  {
   "cell_type": "code",
   "execution_count": 103,
   "metadata": {
    "collapsed": true
   },
   "outputs": [],
   "source": [
    "from sklearn.ensemble import RandomForestClassifier\n",
    "\n",
    "param_grid = {\n",
    "              \"n_estimators\": list(range(1,1000)),\n",
    "             }\n",
    "\n",
    "forest = RandomForestClassifier( random_state=42)"
   ]
  },
  {
   "cell_type": "code",
   "execution_count": 112,
   "metadata": {},
   "outputs": [],
   "source": [
    "rand_for = RandomizedSearchCV(forest, param_grid, scoring = 'accuracy', n_iter=20, random_state=42)\n",
    "_ = rand_for.fit(X_vitals,y_all)"
   ]
  },
  {
   "cell_type": "code",
   "execution_count": 113,
   "metadata": {},
   "outputs": [
    {
     "name": "stdout",
     "output_type": "stream",
     "text": [
      "0.830236486486\n",
      "{'n_estimators': 861}\n",
      "RandomForestClassifier(bootstrap=True, class_weight=None, criterion='gini',\n",
      "            max_depth=None, max_features='auto', max_leaf_nodes=None,\n",
      "            min_samples_leaf=1, min_samples_split=2,\n",
      "            min_weight_fraction_leaf=0.0, n_estimators=861, n_jobs=1,\n",
      "            oob_score=False, random_state=42, verbose=0, warm_start=False)\n"
     ]
    }
   ],
   "source": [
    "print(rand_for.best_score_)\n",
    "print(rand_for.best_params_)\n",
    "print(rand_for.best_estimator_)"
   ]
  },
  {
   "cell_type": "code",
   "execution_count": 114,
   "metadata": {
    "scrolled": true
   },
   "outputs": [
    {
     "name": "stdout",
     "output_type": "stream",
     "text": [
      "0) lactate 0.0969784268579\n",
      "1) PH 0.0894660825308\n",
      "2) bicarbonate 0.0659836132261\n",
      "3) BUN 0.0632510173184\n",
      "4) PT 0.0523806586957\n",
      "5) RBCDW 0.0514374895954\n",
      "6) calcium 0.0473450099908\n",
      "7) AST 0.045504428118\n",
      "8) platelet 0.0429429886793\n",
      "9) MCH 0.0411469514548\n",
      "10) age 0.0408527767491\n",
      "11) hematocrit 0.0406661817607\n",
      "12) glucose 0.0401809772364\n",
      "13) creatinine 0.0395509272337\n",
      "14) alkaline phosphatase 0.0392265237408\n",
      "15) neutrophils 0.0381829697316\n",
      "16) PTT 0.0370072172162\n",
      "17) hemoglobin 0.0360834340481\n",
      "18) INR 0.0357253979273\n",
      "19) lymphocytes 0.035523907528\n",
      "20) gender_M 0.00441401541385\n",
      "21) gender_F 0.00433165466973\n",
      "22) insurance_Private 0.00406179007861\n",
      "23) insurance_Medicare 0.00392657865536\n",
      "24) insurance_Medicaid 0.00198844442361\n",
      "25) insurance_Government 0.000609728531941\n",
      "26) admission_type_URGENT 0.000440954856568\n",
      "27) admission_type_EMERGENCY 0.000405981957336\n",
      "28) insurance_Self Pay 0.000383871773803\n"
     ]
    }
   ],
   "source": [
    "importances = rand_for.best_estimator_.feature_importances_\n",
    "indices = np.argsort(importances)[::-1]\n",
    "for f in range(X_vitals.shape[1]):\n",
    "    print \"{}) {} {}\".format(f, X_vitals.columns[indices[f]], importances[indices[f]])"
   ]
  },
  {
   "cell_type": "code",
   "execution_count": 116,
   "metadata": {},
   "outputs": [
    {
     "data": {
      "image/png": "[encoded data removed]",
      "text/plain": [
       "<matplotlib.figure.Figure at 0x10d4d4e10>"
      ]
     },
     "metadata": {},
     "output_type": "display_data"
    }
   ],
   "source": [
    "plt.title('Feature Importances')\n",
    "plt.bar(range(X_vitals.shape[1]), importances[indices], color='lightblue', align='center')\n",
    "plt.xticks(range(X_vitals.shape[1]), X_vitals.columns[indices], rotation=90)\n",
    "plt.xlim([-1, X_vitals.shape[1]])\n",
    "plt.tight_layout()"
   ]
  },
  {
   "cell_type": "code",
   "execution_count": 70,
   "metadata": {},
   "outputs": [
    {
     "data": {
      "image/png": "[encoded data removed]",
      "text/plain": [
       "<matplotlib.figure.Figure at 0x10d24f1d0>"
      ]
     },
     "metadata": {},
     "output_type": "display_data"
    }
   ],
   "source": [
    "result = pd.concat([X_vitals, y_all], axis=1, join_axes=[X_vitals.index])\n",
    "plt.title('Feature Correlation')\n",
    "tst =  result.corr().copy()['death_period'].abs()\n",
    "tst = tst.drop('death_period')\n",
    "tst.sort_values(inplace=True, ascending=False)\n",
    "tst.plot(kind='bar', color='lightblue', align='center')\n",
    "plt.xticks(range(X_vitals.shape[1]), X_vitals.columns[indices], rotation=90)\n",
    "plt.xlim([-1, X_vitals.shape[1]])\n",
    "plt.tight_layout()"
   ]
  },
  {
   "cell_type": "markdown",
   "metadata": {},
   "source": [
    "So we can see that there are some correlations between the feature correlation to patient survival and the feature importance provided by the random forest. The insurance type, gender and admission type just do not play a significant enough role to leave in our feature set. They will likely be trimmed.\n",
    "\n",
    "We now have a clear idea of how to pre-process the data, and what features really matter in predicting the survivability. The random forest already had a very high accuracy rate so it will be important to ensure overfitting is not occuring and improving the results further with other algorithms and techniques. \n",
    "\n",
    "In the next notebook, models will be trained and tested and compared for accuracy."
   ]
  }
 ],
 "metadata": {
  "kernelspec": {
   "display_name": "python36",
   "language": "python",
   "name": "python36"
  },
  "language_info": {
   "codemirror_mode": {
    "name": "ipython",
    "version": 3
   },
   "file_extension": ".py",
   "mimetype": "text/x-python",
   "name": "python",
   "nbconvert_exporter": "python",
   "pygments_lexer": "ipython3",
   "version": "3.6.8"
  }
 },
 "nbformat": 4,
 "nbformat_minor": 2
}
